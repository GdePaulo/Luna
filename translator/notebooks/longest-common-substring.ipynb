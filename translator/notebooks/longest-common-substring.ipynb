{
 "cells": [
  {
   "cell_type": "code",
   "execution_count": 68,
   "metadata": {},
   "outputs": [],
   "source": [
    "correct_word = \"kapitulashon\"\n",
    "wrong_word = \"kapiutalshon\""
   ]
  },
  {
   "cell_type": "code",
   "execution_count": 69,
   "metadata": {},
   "outputs": [],
   "source": [
    "class Trie:\n",
    "    def __init__(self, tag=None):\n",
    "        self.children = {}\n",
    "        self.tag = []\n",
    "\n",
    "        # Careful with value of zero being interpreted as false\n",
    "        if tag is not None:\n",
    "            # print(f\"Initializing new node with tag {tag}\")\n",
    "            self.tag.append(tag)\n",
    "        # else:\n",
    "            # print(f\"Initializing new node without tag {tag}\")\n",
    "        \n",
    "    def __str__(self):\n",
    "        if self.children:\n",
    "            ret = f\"{len(self.children)}\"\n",
    "            for k, v in self.children.items():\n",
    "                ret += f\" {k}:{v.tag} {v}\"\n",
    "            return ret\n",
    "        else:\n",
    "            return \"\"\n",
    "\n",
    "    def insert(self, word, tag):\n",
    "        current = self\n",
    "        word_length = len(word)\n",
    "        letters_found = 0\n",
    "\n",
    "        while letters_found < word_length:\n",
    "            found = False\n",
    "            for j in range(word_length - letters_found):\n",
    "                k = word_length - j\n",
    "                sub_word = word[letters_found: k]\n",
    "\n",
    "                if sub_word in current.children:\n",
    "                    # print(f\"{sub_word} in {current.children}\")\n",
    "                    current = current.children[sub_word]\n",
    "                    letters_found = k\n",
    "                    found = True\n",
    "\n",
    "                    # if k == word_length:\n",
    "                    if tag not in current.tag:\n",
    "                        current.tag.append(tag)\n",
    "                    # print(f\"to {current}\")\n",
    "            if not found:\n",
    "                rest_word = word[letters_found:]\n",
    "                current.children[rest_word] = Trie(tag=tag)\n",
    "                # print(f\"setting child {rest_word}:{tag} when letters found is: {word[:letters_found]}\")\n",
    "                # print(\"s\", current.children[rest_word].tag, self )\n",
    "                break\n",
    "\n",
    "\n",
    "    def find(self, word, case=False):\n",
    "\n",
    "        current = self\n",
    "        for i, l in enumerate(word):\n",
    "            children = current.children\n",
    "            if not case:\n",
    "                l = l.lower()\n",
    "            if l in children:\n",
    "                current = children[l]\n",
    "                if i == len(word)-1:\n",
    "                    return current.lastNode\n",
    "            else:\n",
    "                return False\n",
    "\n",
    "    \n",
    "    \n",
    "    def populate(self, words, case=False):\n",
    "        for word in words:\n",
    "            if case:\n",
    "                self.insert(word)\n",
    "            else:\n",
    "                self.insert(word.lower())"
   ]
  },
  {
   "cell_type": "code",
   "execution_count": 71,
   "metadata": {},
   "outputs": [
    {
     "name": "stdout",
     "output_type": "stream",
     "text": [
      "1 a:[0, 1] 1 b:[0, 1] 1 a:[0] \n"
     ]
    }
   ],
   "source": [
    "t = Trie()\n",
    "t.insert(\"a\", 0)\n",
    "t.insert(\"ab\", 0)\n",
    "t.insert(\"aba\", 0)\n",
    "t.insert(\"ab\", 1)\n",
    "print(t)"
   ]
  }
 ],
 "metadata": {
  "kernelspec": {
   "display_name": "Python 3.9.4 ('luna-translate')",
   "language": "python",
   "name": "python3"
  },
  "language_info": {
   "codemirror_mode": {
    "name": "ipython",
    "version": 3
   },
   "file_extension": ".py",
   "mimetype": "text/x-python",
   "name": "python",
   "nbconvert_exporter": "python",
   "pygments_lexer": "ipython3",
   "version": "3.9.4"
  },
  "orig_nbformat": 4,
  "vscode": {
   "interpreter": {
    "hash": "5c6032c78efa7f90cd1715915e3f0102fff89cef77c12db36694d1cd45acba4a"
   }
  }
 },
 "nbformat": 4,
 "nbformat_minor": 2
}
