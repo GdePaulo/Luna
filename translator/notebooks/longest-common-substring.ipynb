{
 "cells": [
  {
   "cell_type": "code",
   "execution_count": 1,
   "metadata": {},
   "outputs": [],
   "source": [
    "correct_word = \"kapitulashon\"\n",
    "wrong_word = \"kapiutalshon\""
   ]
  },
  {
   "cell_type": "code",
   "execution_count": 11,
   "metadata": {},
   "outputs": [],
   "source": [
    "from re import sub\n",
    "\n",
    "\n",
    "class Trie:\n",
    "    def __init__(self, tag=None):\n",
    "        self.children = {}\n",
    "        self.tag = []\n",
    "\n",
    "        # Careful with value of zero being interpreted as false\n",
    "        if tag is not None:\n",
    "            # print(f\"Initializing new node with tag {tag}\")\n",
    "            self.tag.append(tag)\n",
    "        # else:\n",
    "            # print(f\"Initializing new node without tag {tag}\")\n",
    "        \n",
    "    def __str__(self):\n",
    "        if self.children:\n",
    "            ret = f\"{len(self.children)}\"\n",
    "            for k, v in self.children.items():\n",
    "                ret += f\" {k}:{v.tag} {v}\"\n",
    "            return ret\n",
    "        else:\n",
    "            return \"\"\n",
    "\n",
    "    def insert(self, word, tag):\n",
    "        current = self\n",
    "        word_length = len(word)\n",
    "        letters_found = 0\n",
    "\n",
    "        while letters_found < word_length:\n",
    "            found = False\n",
    "            for j in range(word_length - letters_found):\n",
    "                k = word_length - j\n",
    "                sub_word = word[letters_found: k]\n",
    "\n",
    "                if sub_word in current.children:\n",
    "                    # print(f\"{sub_word} in {current.children}\")\n",
    "                    current = current.children[sub_word]\n",
    "                    letters_found = k\n",
    "                    found = True\n",
    "                    if tag not in current.tag:\n",
    "                        current.tag.append(tag)\n",
    "\n",
    "                if not found:\n",
    "                    sub_word_length = len(sub_word)\n",
    "                    found_key = \"\"\n",
    "                    rest_part = \"\"\n",
    "                    for key, node in current.children.items():\n",
    "                        key_length = len(key)\n",
    "                        if sub_word_length < key_length and sub_word == key[:sub_word_length]:\n",
    "                            rest_part = key[sub_word_length:]\n",
    "                            found_key = key\n",
    "                            found = True\n",
    "                            break\n",
    "                    if found:\n",
    "                        new_node = Trie(tag=tag)\n",
    "                        new_node.children[rest_part] = current.children[found_key]\n",
    "                        del current.children[found_key]\n",
    "                        current.children[sub_word] = new_node\n",
    "                        break\n",
    "            if not found:\n",
    "                rest_word = word[letters_found:]\n",
    "                current.children[rest_word] = Trie(tag=tag)\n",
    "                # print(f\"setting child {rest_word}:{tag} when letters found is: {word[:letters_found]}\")\n",
    "                # print(\"s\", current.children[rest_word].tag, self )\n",
    "                break\n",
    "\n",
    "\n",
    "    def find(self, word, case=False):\n",
    "\n",
    "        current = self\n",
    "        for i, l in enumerate(word):\n",
    "            children = current.children\n",
    "            if not case:\n",
    "                l = l.lower()\n",
    "            if l in children:\n",
    "                current = children[l]\n",
    "                if i == len(word)-1:\n",
    "                    return current.lastNode\n",
    "            else:\n",
    "                return False\n",
    "\n",
    "    \n",
    "    \n",
    "    def populate(self, words, case=False):\n",
    "        for i, word in enumerate(words):\n",
    "            \n",
    "            if not case:\n",
    "                word = word.lower()\n",
    "\n",
    "            word_length = len(word)\n",
    "            for j in range(word_length):\n",
    "                k = word_length - j - 1\n",
    "                self.insert(word[k:], i)"
   ]
  },
  {
   "cell_type": "code",
   "execution_count": 16,
   "metadata": {},
   "outputs": [
    {
     "name": "stdout",
     "output_type": "stream",
     "text": [
      "3 a:[0] 1 na:[0] 1 na:[0]  na:[0] 1 na:[0]  banana:[0] \n"
     ]
    }
   ],
   "source": [
    "t = Trie()\n",
    "words = [\"a\", \"aba\", \"ashon\"]\n",
    "# words = [\"ab\", \"a\"]#, \"ashon\"]\n",
    "# t.populate(words)\n",
    "t.populate([\"banana\"])\n",
    "# t.insert(\"ab\", 0)\n",
    "# t.insert(\"aba\", 1)\n",
    "print(t)"
   ]
  }
 ],
 "metadata": {
  "kernelspec": {
   "display_name": "Python 3.9.4 ('luna-translate')",
   "language": "python",
   "name": "python3"
  },
  "language_info": {
   "codemirror_mode": {
    "name": "ipython",
    "version": 3
   },
   "file_extension": ".py",
   "mimetype": "text/x-python",
   "name": "python",
   "nbconvert_exporter": "python",
   "pygments_lexer": "ipython3",
   "version": "3.9.4"
  },
  "orig_nbformat": 4,
  "vscode": {
   "interpreter": {
    "hash": "5c6032c78efa7f90cd1715915e3f0102fff89cef77c12db36694d1cd45acba4a"
   }
  }
 },
 "nbformat": 4,
 "nbformat_minor": 2
}
