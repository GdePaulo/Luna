{
 "cells": [
  {
   "cell_type": "code",
   "execution_count": null,
   "metadata": {},
   "outputs": [],
   "source": [
    "import pandas as pd\n",
    "\n",
    "import sys\n",
    "import os\n",
    "sys.path.append(os.path.abspath('../code'))\n",
    "\n",
    "import config\n",
    "import re\n",
    "\n",
    "l = 0\n",
    "d = {k: [] for k in [\"pap-simple\", \"grammar-type\"]}\n",
    "filename = config.gold[\"rawdatafile\"]\n",
    "\n",
    "# Pay attention to zie ook\n",
    "\n",
    "with open(f\"{filename}\", encoding=\"UTF-8\") as fileobject:\n",
    "    for line in fileobject:\n",
    "        l += 1\n",
    "        if l < config.gold[\"startline\"] or l > config.gold[\"endline\"]:\n",
    "            continue\n",
    "        if config.gold[\"rangeindicator\"] in line or any(i.isdigit() for i in line):\n",
    "            print(f\"Skipping {line}\")\n",
    "            continue\n",
    "        \n",
    "        grammar_type = \"\"\n",
    "        has_nan = False\n",
    "\n",
    "        for k, v in config.gold[\"grammartypes\"].items():\n",
    "            if k in line:\n",
    "                grammar_type = v\n",
    "        \n",
    "        if \"-nan\" in line:\n",
    "            has_nan = True\n",
    "\n",
    "        word = line\n",
    "        if grammar_type or has_nan:\n",
    "            match = re.findall(r'^(.*?)[\\(,-].*', line)\n",
    "            word = match[0]\n",
    "        word = word.strip()\n",
    "\n",
    "        d[\"pap-simple\"].append(word)\n",
    "        d[\"grammar-type\"].append(grammar_type)\n",
    "\n",
    "        if has_nan:\n",
    "            d[\"pap-simple\"].append(word + \"nan\")\n",
    "            d[\"grammar-type\"].append(grammar_type)\n",
    "\n",
    "        # print(word, match, line)        \n",
    "        \n",
    "df = pd.DataFrame.from_dict(d)\n",
    "# df = df.reset_index()\n",
    "# print(df)\n",
    "print(f\"final {df}\")"
   ]
  },
  {
   "cell_type": "code",
   "execution_count": null,
   "metadata": {},
   "outputs": [],
   "source": [
    "df.to_csv(\"../data/gold/pap.csv\", index=None)"
   ]
  }
 ],
 "metadata": {
  "interpreter": {
   "hash": "5c6032c78efa7f90cd1715915e3f0102fff89cef77c12db36694d1cd45acba4a"
  },
  "kernelspec": {
   "display_name": "Python 3.9.4 ('luna-translate')",
   "language": "python",
   "name": "python3"
  },
  "language_info": {
   "codemirror_mode": {
    "name": "ipython",
    "version": 3
   },
   "file_extension": ".py",
   "mimetype": "text/x-python",
   "name": "python",
   "nbconvert_exporter": "python",
   "pygments_lexer": "ipython3",
   "version": "3.9.4"
  },
  "orig_nbformat": 4
 },
 "nbformat": 4,
 "nbformat_minor": 2
}
