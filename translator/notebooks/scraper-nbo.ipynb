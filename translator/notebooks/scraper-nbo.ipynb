{
 "cells": [
  {
   "cell_type": "code",
   "execution_count": null,
   "metadata": {},
   "outputs": [],
   "source": [
    "import sys\n",
    "import os\n",
    "sys.path.append(os.path.abspath('../code'))\n",
    "import config\n",
    "import random\n",
    "URL = config.nboScrapeTarget[\"pagesite\"]"
   ]
  },
  {
   "cell_type": "code",
   "execution_count": null,
   "metadata": {},
   "outputs": [],
   "source": [
    "from selenium import webdriver\n",
    "from selenium.webdriver.chrome.service import Service\n",
    "from selenium.webdriver.chrome.options import Options\n",
    "from selenium.webdriver.common.keys import Keys\n",
    "from time import sleep\n",
    "\n",
    "DRIVER_PATH = r\"C:\\Users\\Ameno\\Desktop\\Drivers\\chromedriver.exe\"\n",
    "\n",
    "options = Options()\n",
    "options.headless = True\n",
    "options.add_argument(\"--window-size=1920,1200\")\n",
    "\n",
    "s = Service(DRIVER_PATH)\n",
    "\n",
    "driver = webdriver.Chrome(service=s)#, options=options)\n",
    "driver.get(f\"{URL}{2}\")\n",
    "sleep(5)\n",
    "# print(driver.page_source)\n",
    "# driver.quit()"
   ]
  },
  {
   "cell_type": "code",
   "execution_count": null,
   "metadata": {},
   "outputs": [],
   "source": [
    "def getLinks():\n",
    "    links = []\n",
    "    for rnum, row in enumerate(driver.find_elements_by_xpath(config.nboScrapeTarget[\"linkcontainer\"])):\n",
    "        link = row.find_element_by_xpath(config.nboScrapeTarget[\"link\"])\n",
    "        links.append(link.get_attribute(\"href\"))\n",
    "    return links\n",
    "def dumpTranslations(driver, page):\n",
    "    with open(config.nboScrapeTarget[\"rawdatafile\"],'a', encoding=\"UTF-8\") as f:\n",
    "        f.write(f\"--page: {page}--\\n\")\n",
    "        for lnum, link in enumerate(getLinks()):\n",
    "            # if lnum > 2:\n",
    "            #     continue\n",
    "            driver.get(link)\n",
    "            sleep(random.uniform(4,7))\n",
    "\n",
    "            f.write(f\"--article: {lnum+1}--\\n\")\n",
    "            f.write(f\"--title--\\n\")\n",
    "            title = driver.find_element_by_xpath(config.nboScrapeTarget[\"tit\"])\n",
    "            f.write(title.get_attribute(\"innerText\"))\n",
    "            f.write(\"\\n\")\n",
    "            f.write(f\"--body--\\n\")\n",
    "            body = driver.find_element_by_xpath(config.nboScrapeTarget[\"nbo\"])\n",
    "            f.write(body.get_attribute(\"innerText\"))\n",
    "            f.write(\"\\n\")"
   ]
  },
  {
   "cell_type": "code",
   "execution_count": null,
   "metadata": {},
   "outputs": [],
   "source": [
    "for num in range(80, 200):\n",
    "    driver.get(f\"{URL}{num}\")\n",
    "    sleep(random.uniform(3,10))\n",
    "    dumpTranslations(driver, num)"
   ]
  }
 ],
 "metadata": {
  "interpreter": {
   "hash": "5c6032c78efa7f90cd1715915e3f0102fff89cef77c12db36694d1cd45acba4a"
  },
  "kernelspec": {
   "display_name": "Python 3.9.4 ('luna-translate')",
   "language": "python",
   "name": "python3"
  },
  "language_info": {
   "codemirror_mode": {
    "name": "ipython",
    "version": 3
   },
   "file_extension": ".py",
   "mimetype": "text/x-python",
   "name": "python",
   "nbconvert_exporter": "python",
   "pygments_lexer": "ipython3",
   "version": "3.9.4"
  },
  "orig_nbformat": 4
 },
 "nbformat": 4,
 "nbformat_minor": 2
}
