{
 "cells": [
  {
   "cell_type": "code",
   "execution_count": null,
   "metadata": {},
   "outputs": [],
   "source": [
    "\n",
    "import sys\n",
    "import os\n",
    "sys.path.append(os.path.abspath('../code'))\n",
    "import config\n",
    "import random\n",
    "URL = config.nboScrapeTarget[\"pagesite\"]"
   ]
  },
  {
   "cell_type": "code",
   "execution_count": null,
   "metadata": {},
   "outputs": [],
   "source": [
    "from selenium import webdriver\n",
    "from selenium.webdriver.chrome.service import Service\n",
    "from selenium.webdriver.chrome.options import Options\n",
    "from selenium.webdriver.common.keys import Keys\n",
    "from time import sleep\n",
    "\n",
    "DRIVER_PATH = r\"C:\\Users\\Ameno\\Desktop\\Drivers\\chromedriver.exe\"\n",
    "\n",
    "options = Options()\n",
    "options.headless = True\n",
    "options.add_argument(\"--window-size=1920,1200\")\n",
    "\n",
    "s = Service(DRIVER_PATH)\n",
    "\n",
    "driver = webdriver.Chrome(service=s)#, options=options)\n",
    "driver.get(f\"{URL}{2}\")\n",
    "sleep(5)\n",
    "# print(driver.page_source)\n",
    "# driver.quit()"
   ]
  },
  {
   "cell_type": "code",
   "execution_count": null,
   "metadata": {},
   "outputs": [],
   "source": [
    "for num in range(2, 4):\n",
    "    driver.get(f\"{URL}{num}\")\n",
    "    sleep(random.uniform(3,10))\n",
    "    dumpTranslations(driver, num)\n",
    "# links = getLinks()\n",
    "# driver.get(links[2])\n",
    "# with open(config.nboScrapeTarget[\"rawdatafile\"],'a', encoding=\"UTF-8\") as f:\n",
    "#     title = driver.find_element_by_xpath(config.nboScrapeTarget[\"tit\"])\n",
    "#     f.write(f\"--title--\\n\")\n",
    "#     f.write(title.get_attribute(\"innerText\"))\n",
    "#     f.write(\"\\n\")\n",
    "#     f.write(f\"--body--\\n\")\n",
    "#     body = driver.find_element_by_xpath(config.nboScrapeTarget[\"nbo\"])\n",
    "#     f.write(body.get_attribute(\"innerText\"))"
   ]
  },
  {
   "cell_type": "code",
   "execution_count": null,
   "metadata": {},
   "outputs": [],
   "source": [
    "link = driver.find_element_by_xpath(config.nboScrapeTarget[\"tit\"])\n",
    "link = driver.find_element_by_xpath(config.nboScrapeTarget[\"nbo\"])\n",
    "# for rnum, row in enumerate(driver.find_elements_by_xpath(\"//div[@id='content']/div\")):\n",
    "#     # print(link.get_attribute(\"innerText\")):lang\n",
    "#     links.append(link.get_attribute(\"href\"))\n",
    "print(link.get_attribute(\"innerText\"))\n"
   ]
  },
  {
   "cell_type": "code",
   "execution_count": null,
   "metadata": {},
   "outputs": [],
   "source": [
    "\n",
    "def getLinks():\n",
    "    links = []\n",
    "    for rnum, row in enumerate(driver.find_elements_by_xpath(config.nboScrapeTarget[\"linkcontainer\"])):\n",
    "        link = row.find_element_by_xpath(config.nboScrapeTarget[\"link\"])\n",
    "        # print(link.get_attribute(\"innerText\")):lang\n",
    "        links.append(link.get_attribute(\"href\"))\n",
    "    return links"
   ]
  },
  {
   "cell_type": "code",
   "execution_count": null,
   "metadata": {},
   "outputs": [],
   "source": [
    "# print(driver.page_source)\n",
    "def dumpTranslations(driver, page):\n",
    "    with open(config.nboScrapeTarget[\"rawdatafile\"],'a', encoding=\"UTF-8\") as f:\n",
    "        f.write(f\"--page: {page}--\\n\")\n",
    "        for lnum, link in enumerate(getLinks()):\n",
    "            if lnum > 2:\n",
    "                continue\n",
    "            driver.get(link)\n",
    "            sleep(random.uniform(4,7))\n",
    "\n",
    "            f.write(f\"--article: {lnum+1}--\\n\")\n",
    "            f.write(f\"--title--\\n\")\n",
    "            title = driver.find_element_by_xpath(config.nboScrapeTarget[\"tit\"])\n",
    "            f.write(title.get_attribute(\"innerText\"))\n",
    "            f.write(\"\\n\")\n",
    "            f.write(f\"--body--\\n\")\n",
    "            body = driver.find_element_by_xpath(config.nboScrapeTarget[\"nbo\"])\n",
    "            f.write(body.get_attribute(\"innerText\"))\n",
    "            f.write(\"\\n\")"
   ]
  },
  {
   "cell_type": "code",
   "execution_count": null,
   "metadata": {},
   "outputs": [],
   "source": [
    "import random\n",
    "webdriver.ActionChains(driver).send_keys(Keys.ESCAPE).perform()\n",
    "sleep(1.21)\n",
    "\n",
    "for i in range(60, 99):\n",
    "\n",
    "    if i != 0 and i % 5 == 0:\n",
    "        print(\"Moving to next set of rows...\")\n",
    "        nxtBtn = driver.find_element_by_xpath(config.getBtn(config.scrapeTarget[\"nextbtn\"]))\n",
    "        nxtBtn.click()\n",
    "        sleep(random.uniform(0.5,1.5))    \n",
    "\n",
    "    btn = driver.find_element_by_xpath(config.getBtn(i+1))\n",
    "    print(f\"Currently at button {btn.text}\")\n",
    "    btn.click()\n",
    "    sleep(1)\n",
    "\n",
    "    sleep_duration = random.uniform(2,4)\n",
    "    print(f\"Saving and waiting for {sleep_duration} seconds\")\n",
    "    dumpTranslations(driver, i+1)\n",
    "    sleep(sleep_duration)\n",
    "# print(driver.page_source)\n"
   ]
  },
  {
   "cell_type": "code",
   "execution_count": null,
   "metadata": {},
   "outputs": [],
   "source": [
    "# dumpTranslations(driver, 2)\n",
    "# print(driver.page_source)\n",
    "\n",
    "# btn.get_attribute(\"innerText\")\n",
    "# btn.click()\n",
    "\n",
    "            # classes = item.get_attribute(\"class\")\n",
    "            # print(f\"attr class={classes}\")\n",
    "# import pandas as pd\n",
    "# df = pd.DataFrame.from_dict(d, orient=\"index\", columns=[\"definition\"])"
   ]
  }
 ],
 "metadata": {
  "interpreter": {
   "hash": "5c6032c78efa7f90cd1715915e3f0102fff89cef77c12db36694d1cd45acba4a"
  },
  "kernelspec": {
   "display_name": "Python 3.9.4 ('luna-translate')",
   "language": "python",
   "name": "python3"
  },
  "language_info": {
   "codemirror_mode": {
    "name": "ipython",
    "version": 3
   },
   "file_extension": ".py",
   "mimetype": "text/x-python",
   "name": "python",
   "nbconvert_exporter": "python",
   "pygments_lexer": "ipython3",
   "version": "3.9.4"
  },
  "orig_nbformat": 4
 },
 "nbformat": 4,
 "nbformat_minor": 2
}
