{
 "cells": [
  {
   "cell_type": "code",
   "execution_count": null,
   "metadata": {},
   "outputs": [],
   "source": [
    "import pandas as pd\n",
    "import sys\n",
    "import os\n",
    "sys.path.append(os.path.abspath('../code'))\n",
    "import config\n",
    "\n",
    "stparkpap_pap_en_name = \"-\".join(config.scrapeTarget[\"languages\"])\n",
    "stparkpap_pap_en = pd.read_csv(f\"../data/stparkpap/{stparkpap_pap_en_name}.csv\", na_filter=False)\n",
    "stparkpap_pap_en = stparkpap_pap_en[[\"pap-simple\", \"en-simple\"]]\n",
    "stparkpap_pap_en\n"
   ]
  },
  {
   "cell_type": "code",
   "execution_count": null,
   "metadata": {},
   "outputs": [],
   "source": [
    "sentence_pairs = zip(stparkpap_pap_en[\"pap-simple\"].values, stparkpap_pap_en[\"en-simple\"].values)\n",
    "\n",
    "associations = {}\n",
    "for p, e in list(sentence_pairs)[:]:\n",
    "\n",
    "    p = p.replace(\"?\", \"\")\n",
    "    e = e.replace(\"?\", \"\")\n",
    "\n",
    "    p_words = p.split()\n",
    "    e_words = e.split()\n",
    "\n",
    "    \n",
    "    for i, p_word in enumerate(p_words):\n",
    "        current_associations = associations.get(p_word, {})\n",
    "\n",
    "        if i > len(e_words) - 1:\n",
    "            continue\n",
    "        elif i == len(p_words) - 1:\n",
    "            matching_e = \" \".join(e_words[i:])\n",
    "        else:\n",
    "            matching_e = e_words[i]\n",
    "        \n",
    "        if matching_e in current_associations:\n",
    "            current_associations[matching_e] += 1\n",
    "        else:\n",
    "            current_associations[matching_e] = 1\n",
    "        \n",
    "        current_associations =  {k: v for k, v in sorted(current_associations.items(), key=lambda item: item[1], reverse=True)}\n",
    "        associations[p_word] = current_associations\n",
    "    # if len(p_words):\n",
    "associations"
   ]
  },
  {
   "cell_type": "code",
   "execution_count": null,
   "metadata": {},
   "outputs": [],
   "source": [
    "important_associations = {}\n",
    "\n",
    "for k, v in associations.items():\n",
    "    frequencies = [frequency for word, frequency in v.items()]\n",
    "    average_frequency = sum(frequencies) / len(frequencies)\n",
    "    important_associations[k] = {word:frequency for word, frequency in v.items() if frequency >= average_frequency}\n",
    "\n",
    "important_associations"
   ]
  },
  {
   "cell_type": "code",
   "execution_count": null,
   "metadata": {},
   "outputs": [],
   "source": []
  }
 ],
 "metadata": {
  "kernelspec": {
   "display_name": "Python 3.9.4 ('luna-translate')",
   "language": "python",
   "name": "python3"
  },
  "language_info": {
   "codemirror_mode": {
    "name": "ipython",
    "version": 3
   },
   "file_extension": ".py",
   "mimetype": "text/x-python",
   "name": "python",
   "nbconvert_exporter": "python",
   "pygments_lexer": "ipython3",
   "version": "3.9.4"
  },
  "orig_nbformat": 4,
  "vscode": {
   "interpreter": {
    "hash": "5c6032c78efa7f90cd1715915e3f0102fff89cef77c12db36694d1cd45acba4a"
   }
  }
 },
 "nbformat": 4,
 "nbformat_minor": 2
}
