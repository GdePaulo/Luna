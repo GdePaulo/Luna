{
 "cells": [
  {
   "cell_type": "code",
   "execution_count": null,
   "metadata": {},
   "outputs": [],
   "source": [
    "import pandas as pd\n",
    "import sys\n",
    "import os\n",
    "sys.path.append(os.path.abspath('../code'))\n",
    "import config\n",
    "\n",
    "stparkpap_pap_en_name = \"-\".join(config.scrapeTarget[\"languages\"])\n",
    "stparkpap_pap_en = pd.read_csv(f\"../data/stparkpap/{stparkpap_pap_en_name}.csv\", na_filter=False)\n",
    "stparkpap_pap_en = stparkpap_pap_en[[\"pap-simple\", \"en-simple\"]]\n",
    "stparkpap_pap_en\n"
   ]
  },
  {
   "cell_type": "code",
   "execution_count": null,
   "metadata": {},
   "outputs": [],
   "source": [
    "import re\n",
    "sentence_pairs = zip(stparkpap_pap_en[\"pap-simple\"].values, stparkpap_pap_en[\"en-simple\"].values)\n",
    "\n",
    "associations = {}\n",
    "for p, e in list(sentence_pairs)[:]:\n",
    "\n",
    "    p = re.sub('[!?,]', '', p)\n",
    "    e = re.sub('[!?,]', '', e)\n",
    "\n",
    "    p_words = p.split()\n",
    "    e_words = e.split()\n",
    "\n",
    "    \n",
    "    for i, p_word in enumerate(p_words):\n",
    "        current_associations = associations.get(p_word, {})\n",
    "\n",
    "        if i > len(e_words) - 1:\n",
    "            continue\n",
    "        elif i == len(p_words) - 1:\n",
    "            matching_e = \" \".join(e_words[i:])\n",
    "        else:\n",
    "            matching_e = e_words[i]\n",
    "        \n",
    "        if matching_e in current_associations:\n",
    "            current_associations[matching_e] += 1\n",
    "        else:\n",
    "            current_associations[matching_e] = 1\n",
    "        \n",
    "        current_associations =  {k: v for k, v in sorted(current_associations.items(), key=lambda item: item[1], reverse=True)}\n",
    "        associations[p_word] = current_associations\n",
    "    # if len(p_words):\n",
    "associations"
   ]
  },
  {
   "cell_type": "code",
   "execution_count": null,
   "metadata": {},
   "outputs": [],
   "source": [
    "important_associations = {}\n",
    "\n",
    "for k, v in associations.items():\n",
    "    frequencies = [frequency for word, frequency in v.items()]\n",
    "    average_frequency = sum(frequencies) / len(frequencies)\n",
    "    important_associations[k] = {word:frequency for word, frequency in v.items() if frequency >= average_frequency}\n",
    "\n",
    "important_associations"
   ]
  },
  {
   "cell_type": "code",
   "execution_count": null,
   "metadata": {},
   "outputs": [],
   "source": [
    "from loader import Loader\n",
    "from spellcheck import Spellcheck\n",
    "\n",
    "load = Loader()\n",
    "lan = \"PAP-EN\"\n",
    "dictionary, dictionary_corpus = load.loadDictionary(lan)\n",
    "# print(dictionary)\n",
    "spell = Spellcheck(spellchecker_corpus=dictionary_corpus, lan=lan, load=True)\n",
    "\n",
    "new_associations = {}\n",
    "\n",
    "for k, v in important_associations.items():\n",
    "    translation_exists = spell.trie.find(k.lower())\n",
    "    if translation_exists or k.lower() in config.word_extraction_ignore[\"stparkpap\"]:\n",
    "        print(f\"Skipping {k}\")\n",
    "    else:\n",
    "        new_associations[k] = list(v.keys())[0]\n",
    "\n",
    "print(f\"Found: {len(new_associations)} Skipped: {len(important_associations)-len(new_associations)} Total: {len(important_associations)}\")"
   ]
  },
  {
   "cell_type": "code",
   "execution_count": null,
   "metadata": {},
   "outputs": [],
   "source": [
    "new_associations\n",
    "new_associations_df = pd.DataFrame(list(new_associations.items()), columns=['pap-simple', 'en-simple'])\n",
    "new_associations_df.to_csv(\"../data/stparkpap/pap-en(extracted_words).csv\")"
   ]
  }
 ],
 "metadata": {
  "kernelspec": {
   "display_name": "Python 3.9.4 ('luna-translate')",
   "language": "python",
   "name": "python3"
  },
  "language_info": {
   "codemirror_mode": {
    "name": "ipython",
    "version": 3
   },
   "file_extension": ".py",
   "mimetype": "text/x-python",
   "name": "python",
   "nbconvert_exporter": "python",
   "pygments_lexer": "ipython3",
   "version": "3.9.4"
  },
  "orig_nbformat": 4,
  "vscode": {
   "interpreter": {
    "hash": "5c6032c78efa7f90cd1715915e3f0102fff89cef77c12db36694d1cd45acba4a"
   }
  }
 },
 "nbformat": 4,
 "nbformat_minor": 2
}
