{
 "cells": [
  {
   "cell_type": "code",
   "execution_count": null,
   "metadata": {},
   "outputs": [],
   "source": [
    "import pandas as pd\n",
    "import sys\n",
    "import os\n",
    "sys.path.append(os.path.abspath('../code'))\n",
    "import config\n",
    "from extractor import Extractor \n",
    "\n",
    "stparkpap_pap_en_name = \"-\".join(config.scrapeTarget[\"languages\"])\n",
    "stparkpap_pap_en = pd.read_csv(f\"../data/stparkpap/{stparkpap_pap_en_name}.csv\", na_filter=False)\n",
    "stparkpap_pap_en = stparkpap_pap_en[[\"pap-simple\", \"en-simple\"]]"
   ]
  },
  {
   "cell_type": "code",
   "execution_count": null,
   "metadata": {},
   "outputs": [],
   "source": [
    "source_sentences = stparkpap_pap_en[\"pap-simple\"].values\n",
    "target_sentences = stparkpap_pap_en[\"en-simple\"].values\n",
    "extractor = Extractor()\n",
    "word_translations = extractor.getWordTranslationsFromSentences(source_sentences, target_sentences)\n",
    "# print(word_translations)"
   ]
  },
  {
   "cell_type": "code",
   "execution_count": null,
   "metadata": {},
   "outputs": [],
   "source": [
    "from loader import Loader\n",
    "from spellcheck import Spellcheck\n",
    "\n",
    "load = Loader()\n",
    "lan = \"PAP-EN\"\n",
    "dictionary, dictionary_corpus = load.loadDictionary(lan)\n",
    "# print(dictionary)\n",
    "spell = Spellcheck(spellchecker_corpus=dictionary_corpus, lan=lan, load=True)\n",
    "\n",
    "new_associations = {}\n",
    "\n",
    "for k, v in word_translations.items():\n",
    "    translation_exists = spell.trie.find(k.lower())\n",
    "    if translation_exists or k.lower() in config.word_extraction_ignore[\"stparkpap\"]:\n",
    "        print(f\"Skipping {k}\")\n",
    "    else:\n",
    "        new_associations[k] = list(v.keys())[0]\n",
    "\n",
    "print(f\"Found: {len(new_associations)} Skipped: {len(word_translations)-len(new_associations)} Total: {len(word_translations)}\")"
   ]
  },
  {
   "cell_type": "code",
   "execution_count": null,
   "metadata": {},
   "outputs": [],
   "source": [
    "new_associations\n",
    "new_associations_df = pd.DataFrame(list(new_associations.items()), columns=['pap-simple', 'en-simple'])\n",
    "new_associations_df.to_csv(\"../data/stparkpap/pap-en(extracted_words).csv\")"
   ]
  }
 ],
 "metadata": {
  "kernelspec": {
   "display_name": "Python 3.9.4 ('luna-translate')",
   "language": "python",
   "name": "python3"
  },
  "language_info": {
   "codemirror_mode": {
    "name": "ipython",
    "version": 3
   },
   "file_extension": ".py",
   "mimetype": "text/x-python",
   "name": "python",
   "nbconvert_exporter": "python",
   "pygments_lexer": "ipython3",
   "version": "3.9.4"
  },
  "orig_nbformat": 4,
  "vscode": {
   "interpreter": {
    "hash": "5c6032c78efa7f90cd1715915e3f0102fff89cef77c12db36694d1cd45acba4a"
   }
  }
 },
 "nbformat": 4,
 "nbformat_minor": 2
}
