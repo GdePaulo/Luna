{
 "cells": [
  {
   "cell_type": "code",
   "execution_count": null,
   "metadata": {},
   "outputs": [],
   "source": [
    "import pandas as pd\n",
    "\n",
    "import sys\n",
    "import os\n",
    "sys.path.append(os.path.abspath('../code'))\n",
    "import config\n",
    "l = 0\n",
    "with open(\"../data/nbo/nbo-dump.txt\", encoding=\"UTF-8\") as fileobject:\n",
    "    definitions = {k: [] for k in config.scrapeTarget[\"languages\"]}\n",
    "    raw_corpus = \"\"\n",
    "    current = \"\"\n",
    "    for line in fileobject:\n",
    "        l += 1\n",
    "        # print(f\"Reading line {l}\")\n",
    "        if \"--page: \" in line: \n",
    "            continue\n",
    "        elif \"--article: \" in line:\n",
    "            continue\n",
    "        elif \"--title--\" in line:\n",
    "            continue\n",
    "        elif \"--body--\" in line:\n",
    "            continue\n",
    "        else:\n",
    "            # definitions += line.strip()\n",
    "            raw_corpus += line"
   ]
  },
  {
   "cell_type": "code",
   "execution_count": null,
   "metadata": {},
   "outputs": [],
   "source": [
    "from util import Util\n",
    "# print(raw_corpus)\n",
    "# Remove capitalizations that are only due to: new sentence, new line\n",
    "test_sentence = \"E guy no sa.Pero kon bin. min sa? E guy si. OPeradó si.Of no guy!Hombu echt. \\n I ku nobo tambe.NO REPLACE E PERO aki.Hopi.Grandi\"\n",
    "import re\n",
    "def removeCapitalization(input_str):\n",
    "    matcher = r'([\\.\\?!]\\s*)([\\w]+)(\\s*)'\n",
    "    words = re.findall(matcher, input_str) \n",
    "    # print(words)\n",
    "    # words = re.sub(matcher, r\"\\1\\2\\3\",Me input_str) \n",
    "    words = re.sub(matcher, lambda m: m.group(1) + m.group(2).lower() + m.group(3), input_str) \n",
    "    # words = re.sub(matcher, lambda m: m.group(1), input_str) \n",
    "    return words\n",
    "no_sentence_caps = removeCapitalization(raw_corpus)\n",
    "words = Util.findWords(no_sentence_caps)\n"
   ]
  },
  {
   "cell_type": "code",
   "execution_count": null,
   "metadata": {},
   "outputs": [],
   "source": [
    "print(\"works\", len(words))\n",
    "print(\"works\", words[:500])\n",
    "# print(\"works\")\n"
   ]
  },
  {
   "cell_type": "code",
   "execution_count": null,
   "metadata": {},
   "outputs": [],
   "source": [
    "\n",
    "# Fix matching not properly capturing 'and-at the end\n",
    "no_ending = [x[:-1] if x[-1] in [\"’\", \"-\"] else x for x in words]\n"
   ]
  },
  {
   "cell_type": "code",
   "execution_count": null,
   "metadata": {},
   "outputs": [],
   "source": [
    "\n",
    "for word in words[:]:\n",
    "    if not all(x.isalpha() for x in word):\n",
    "    # if not all(x.isalpha() or x.isspace() for x in word):\n",
    "        print(word)\n",
    "\n",
    "print(\"without_ending------------------------------------------------------------------------------------\")\n",
    "for word in no_ending[:]:\n",
    "    if not all(x.isalpha() for x in word):\n",
    "    # if not all(x.isalpha() or x.isspace() for x in word):\n",
    "        print(word)"
   ]
  },
  {
   "cell_type": "code",
   "execution_count": null,
   "metadata": {},
   "outputs": [],
   "source": [
    "words_with_counts = {}\n",
    "\n",
    "\n",
    "for word in no_ending:\n",
    "    words_with_counts[word] = words_with_counts.get(word, 0) + 1\n",
    "\n",
    "len(words_with_counts)"
   ]
  },
  {
   "cell_type": "code",
   "execution_count": null,
   "metadata": {},
   "outputs": [],
   "source": [
    "df = pd.DataFrame.from_dict(words_with_counts, orient=\"index\")\n",
    "df = df.reset_index()\n",
    "df.columns = [\"pap-simple\", \"freq\"]\n",
    "df = df.sort_values(by=\"freq\", ascending=False)\n",
    "\n",
    "two = df[df.freq < 3][\"pap-simple\"].values\n",
    "\n",
    "# for word in two:\n",
    "#     print(word)\n",
    "# print(f\"length is {len(df)}\")\n",
    "# df.set_index(\"pap\", inplace=True)\n",
    "# print(f\"length after setting index is {len(df)}\")\n",
    "# print(df)\n",
    "\n",
    "df.to_csv(\"../data/nbo/pap(cap).csv\", index=None)"
   ]
  }
 ],
 "metadata": {
  "interpreter": {
   "hash": "5c6032c78efa7f90cd1715915e3f0102fff89cef77c12db36694d1cd45acba4a"
  },
  "kernelspec": {
   "display_name": "Python 3.9.4 ('luna-translate')",
   "language": "python",
   "name": "python3"
  },
  "language_info": {
   "codemirror_mode": {
    "name": "ipython",
    "version": 3
   },
   "file_extension": ".py",
   "mimetype": "text/x-python",
   "name": "python",
   "nbconvert_exporter": "python",
   "pygments_lexer": "ipython3",
   "version": "3.9.4"
  },
  "orig_nbformat": 4
 },
 "nbformat": 4,
 "nbformat_minor": 2
}
