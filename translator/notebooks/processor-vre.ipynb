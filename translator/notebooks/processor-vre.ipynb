{
 "cells": [
  {
   "cell_type": "code",
   "execution_count": null,
   "metadata": {},
   "outputs": [],
   "source": [
    "import pandas as pd\n",
    "import re\n",
    "import sys\n",
    "import os\n",
    "sys.path.append(os.path.abspath('../code'))\n",
    "\n",
    "import config\n",
    "l = 0\n",
    "d = {k: [] for k in [\"pap-simple\", \"en-simple\"]}\n",
    "filename = config.vre[\"frmpapname\"]\n",
    "\n",
    "with open(filename, encoding=\"UTF-8\") as fileobject:\n",
    "    for line in fileobject:\n",
    "        l += 1\n",
    "        \n",
    "        if l >= config.vre[\"startline\"] and l <= config.vre[\"endline\"]:\n",
    "            # print(config.vre[\"startline\"])\n",
    "            # print(l, line)\n",
    "            word, definition = line.split(config.vre[\"sep\"])\n",
    "            # word, _, definition = line.rpartition(config.hny[\"sep\"])\n",
    "            word = word.strip()\n",
    "            definition = definition.strip()\n",
    "            definition_no_bar = definition.replace(\"|\", \",\")\n",
    "\n",
    "            matcher = r'[0-9][.]'\n",
    "            definition_no_number = re.sub(matcher, \"\", definition_no_bar) \n",
    "            definitions = [x.strip() for x in definition_no_number.split(\",\")]\n",
    "            definitions_no_duplicates = list(dict.fromkeys(definitions))\n",
    "            definition = definitions_no_duplicates\n",
    "            # if word in config.hny[\"correction\"]:\n",
    "            #     definition = config.hny[\"correction\"][word]\n",
    "            d[\"pap-simple\"].append(word)\n",
    "            d[\"en-simple\"].append(definition[0])\n",
    "# df = pd.DataFrame.from_dict(d, orient=\"index\", columns=[\"nl\"])\n",
    "df = pd.DataFrame.from_dict(d)\n",
    "print(df)"
   ]
  },
  {
   "cell_type": "code",
   "execution_count": null,
   "metadata": {},
   "outputs": [],
   "source": [
    "# Save to file\n",
    "df.to_csv(config.vre[\"topapname\"])"
   ]
  }
 ],
 "metadata": {
  "interpreter": {
   "hash": "5c6032c78efa7f90cd1715915e3f0102fff89cef77c12db36694d1cd45acba4a"
  },
  "kernelspec": {
   "display_name": "Python 3.9.4 ('luna-translate')",
   "language": "python",
   "name": "python3"
  },
  "language_info": {
   "codemirror_mode": {
    "name": "ipython",
    "version": 3
   },
   "file_extension": ".py",
   "mimetype": "text/x-python",
   "name": "python",
   "nbconvert_exporter": "python",
   "pygments_lexer": "ipython3",
   "version": "3.9.4"
  },
  "orig_nbformat": 4
 },
 "nbformat": 4,
 "nbformat_minor": 2
}
