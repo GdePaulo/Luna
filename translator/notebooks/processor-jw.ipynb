{
 "cells": [
  {
   "cell_type": "code",
   "execution_count": null,
   "metadata": {},
   "outputs": [],
   "source": [
    "import pandas as pd\n",
    "\n",
    "import sys\n",
    "import os\n",
    "sys.path.append(os.path.abspath('../code'))\n",
    "import config\n",
    "\n",
    "languages = [\"pap\", \"en\", \"nl\"]\n",
    "# d = {k: [] for k in [\"passage-id\"] + languages}\n",
    "d = {}\n",
    "\n",
    "dir = config.jwScrapeTarget[\"outbblpre\"]\n",
    "\n",
    "for lan in languages:\n",
    "    books_path = os.path.join(dir, lan)\n",
    "    for file in os.listdir(books_path)[:]:\n",
    "        book_path = os.path.join(books_path, file)\n",
    "        print(book_path)\n",
    "        \n",
    "        with open(book_path, encoding=\"UTF-8\") as fileobject:\n",
    "            current_passage_id = \"\"\n",
    "            reading_passage = False\n",
    "            passage = \"\"\n",
    "            for line in fileobject:\n",
    "                # print(line)\n",
    "                if \"--chapter: \" in line: \n",
    "                    continue\n",
    "                elif \"--passage_id: \" in line: \n",
    "                    passage_id = line[:-3].split(\": \")[1][1:]\n",
    "                    # print(passage_id)\n",
    "                    \n",
    "                    passage = \" \".join(passage.split())\n",
    "                    passage = passage.replace(\"*\", \"\")\n",
    "                    passage = passage.replace(\"·\", \"\")\n",
    "                    passage = passage.replace(\"+\", \"\")\n",
    "\n",
    "                    if current_passage_id not in d:\n",
    "                        if lan == \"pap\" and current_passage_id:\n",
    "                            d[current_passage_id] = [passage]\n",
    "                    else:\n",
    "                        d[current_passage_id].append(passage)\n",
    "                    \n",
    "                    current_passage_id = passage_id\n",
    "                    reading_passage = False\n",
    "                    passage = \"\"\n",
    "                elif \"--passage--\" in line:\n",
    "                    reading_passage = True\n",
    "                elif reading_passage:\n",
    "                    passage += line\n",
    "# d"
   ]
  },
  {
   "cell_type": "code",
   "execution_count": null,
   "metadata": {},
   "outputs": [],
   "source": [
    "df = pd.DataFrame.from_dict(d, orient=\"index\")\n",
    "df = df.reset_index()\n",
    "df.columns = [\"passage-id\"] + languages\n",
    "df = df.sort_values(by=\"passage-id\", ascending=True)\n",
    "\n",
    "df.to_csv(\"../data/jw/pap-en-nl.csv\")\n",
    "df"
   ]
  }
 ],
 "metadata": {
  "interpreter": {
   "hash": "5c6032c78efa7f90cd1715915e3f0102fff89cef77c12db36694d1cd45acba4a"
  },
  "kernelspec": {
   "display_name": "Python 3.9.4 ('luna-translate')",
   "language": "python",
   "name": "python3"
  },
  "language_info": {
   "codemirror_mode": {
    "name": "ipython",
    "version": 3
   },
   "file_extension": ".py",
   "mimetype": "text/x-python",
   "name": "python",
   "nbconvert_exporter": "python",
   "pygments_lexer": "ipython3",
   "version": "3.9.4"
  },
  "orig_nbformat": 4
 },
 "nbformat": 4,
 "nbformat_minor": 2
}
