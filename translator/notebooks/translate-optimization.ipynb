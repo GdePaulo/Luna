{
 "cells": [
  {
   "cell_type": "code",
   "execution_count": 35,
   "metadata": {},
   "outputs": [],
   "source": [
    "import pandas as pd\n",
    "import sys\n",
    "import os\n",
    "sys.path.append(os.path.abspath('../code'))\n",
    "import config\n",
    "from translate import Translate\n",
    "\n",
    "hny_pap_nl = pd.read_csv(\"../data/hny/pap-nl.csv\", na_filter=False)\n",
    "corpus = Translate.attachType(hny_pap_nl, \"pap-simple\")\n",
    "corpus = corpus[corpus[\"type\"]==\"word\"]\n",
    "words = corpus[\"pap-simple\"].values\n",
    "trans = Translate(spellchecker_corpus=words)\n",
    "\n",
    "sentence = \"mi man no ta bon pero manan mi kuna ta trese anto bini bek\"\n",
    "big_sentence = \". Presidente di Banko Sentral di Kòrsou i St. Maarten sr. Richard Doornbosch... WILLEMSTAD.- Buskando solushon fo’i 2013 te ku 2019 pa Girobank, a hasi investigashon di e banko. A aserka APC i IIG TOF Holding N.V. (ámbos ta doño di Girobank ku respektivamente 42% i 58%) pa un plan di restrukturashon i re-kapitalisashon pa tin sufisiente kapital den e banko; identifiká potensial kumpradónan ku ke a invertí den e banko. Esaki no tabata algu fásil. Tabatin un défisit\""
   ]
  },
  {
   "cell_type": "code",
   "execution_count": 18,
   "metadata": {},
   "outputs": [
    {
     "data": {
      "text/plain": [
       "{'manan': ['mañan', 'maña', 'mala'], 'anto': ['antó', 'akto', 'ante']}"
      ]
     },
     "execution_count": 18,
     "metadata": {},
     "output_type": "execute_result"
    }
   ],
   "source": [
    "Translate.getWordCorrections(sentence, corpus)"
   ]
  },
  {
   "cell_type": "code",
   "execution_count": 19,
   "metadata": {},
   "outputs": [
    {
     "data": {
      "text/plain": [
       "{'manan': 'mañan', 'anto': 'antó'}"
      ]
     },
     "execution_count": 19,
     "metadata": {},
     "output_type": "execute_result"
    }
   ],
   "source": [
    "trans.getFastWordCorrections(sentence, check_alternatives=True)"
   ]
  },
  {
   "cell_type": "code",
   "execution_count": 82,
   "metadata": {},
   "outputs": [
    {
     "data": {
      "text/plain": [
       "['min',\n",
       " 'sa',\n",
       " \"fo'i\",\n",
       " 'ki',\n",
       " 'dia',\n",
       " 're-kapitulashon',\n",
       " \"M'a\",\n",
       " 'mire',\n",
       " \"n'\",\n",
       " 'ta',\n",
       " \"nothing'\",\n",
       " 'bai',\n",
       " \"fo'i\"]"
      ]
     },
     "execution_count": 82,
     "metadata": {},
     "output_type": "execute_result"
    }
   ],
   "source": [
    "# characters_test = \"(whatever)i don't know, but random. 15 a)e right {,age}()((er)\"\n",
    "characters_test = \"min sa 42% 32 fo'i ki dia re-kapitulashon M'a mire n' ta nothing' bai fo'i\"\n",
    "# characters_test = \"Buskando solushon fo’i 2013 te ku 2019\"\n",
    "import re\n",
    "def getWords(sentence):\n",
    "    # words = re.findall(r'^(.*?)[;\\.,!\\(].*',without_num)        \n",
    "    # words = re.findall(r'[^\\w\\d\\'](\\w+)[^\\w\\d\\']',sentence) \n",
    "    # words = re.findall(r'\\b([^\\d\\W]+[\\'-]?[^\\d\\W\\']*)\\b',sentence) \n",
    "    words = re.findall(r'\\b([^\\d\\W]+[\\'\\’-]*[^\\d\\W\\']*)',sentence) \n",
    "    # words = re.findall(r'\\b([\\d\\w\\'-]+)\\b',sentence) \n",
    "    # words = re.findall(r'([a-z]+[\\'-]?(?![\\w\\'-])[a-z]*)',sentence) \n",
    "    return words\n",
    "getWords(characters_test)\n",
    "# getWords(big_sentence)"
   ]
  }
 ],
 "metadata": {
  "interpreter": {
   "hash": "5c6032c78efa7f90cd1715915e3f0102fff89cef77c12db36694d1cd45acba4a"
  },
  "kernelspec": {
   "display_name": "Python 3.9.4 ('luna-translate')",
   "language": "python",
   "name": "python3"
  },
  "language_info": {
   "codemirror_mode": {
    "name": "ipython",
    "version": 3
   },
   "file_extension": ".py",
   "mimetype": "text/x-python",
   "name": "python",
   "nbconvert_exporter": "python",
   "pygments_lexer": "ipython3",
   "version": "3.9.4"
  },
  "orig_nbformat": 4
 },
 "nbformat": 4,
 "nbformat_minor": 2
}
