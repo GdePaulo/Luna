{
 "cells": [
  {
   "cell_type": "code",
   "execution_count": null,
   "metadata": {},
   "outputs": [],
   "source": [
    "import pandas as pd\n",
    "\n",
    "import sys\n",
    "import os\n",
    "sys.path.append(os.path.abspath('../code'))\n",
    "\n",
    "import config\n",
    "import re\n",
    "from util import Util\n",
    "\n",
    "l = 0\n",
    "d = {k: [] for k in [\"pap-simple\", \"nl-simple\"]}\n",
    "filename = config.rblx[\"rawdatafile\"]\n",
    "\n",
    "reading_pap = False\n",
    "cur_nl_words = []\n",
    "\n",
    "with open(f\"{filename}\", encoding=\"UTF-8\") as fileobject:\n",
    "    for line in fileobject:\n",
    "        l += 1\n",
    "        if l < config.rblx[\"startline\"] or l > config.rblx[\"endline\"]:\n",
    "            continue\n",
    "        ab = re.compile(config.rblx[\"sectionseparator\"])\n",
    "        if ab.match(line):\n",
    "            print(f\"Skipping {line}\")\n",
    "            continue\n",
    "\n",
    "        line = Util.remove_tags(line)\n",
    "        # Deal with space around tags\n",
    "        line = \" \".join(line.split())\n",
    "        line = line.strip()\n",
    "        \n",
    "        line = Util.removeTrailingPunctuation(line)\n",
    "\n",
    "        # print(line)\n",
    "\n",
    "        if \",\" in line:\n",
    "            words = line.split(\",\")\n",
    "        else:\n",
    "            words = [line]\n",
    "        if reading_pap:\n",
    "            print(f\"pap:{words} nl:{cur_nl_words}\")        \n",
    "            for pap_word in words:\n",
    "                for nl_word in cur_nl_words:\n",
    "                    d[\"pap-simple\"].append(pap_word.strip())\n",
    "                    d[\"nl-simple\"].append(nl_word.strip())\n",
    "        else:\n",
    "            cur_nl_words = words\n",
    "\n",
    "        reading_pap = not reading_pap\n",
    "\n",
    "df = pd.DataFrame.from_dict(d)\n",
    "print(f\"final {df}\")"
   ]
  },
  {
   "cell_type": "code",
   "execution_count": null,
   "metadata": {},
   "outputs": [],
   "source": [
    "df.to_csv(config.rblx[\"outfile\"], index=None)"
   ]
  }
 ],
 "metadata": {
  "interpreter": {
   "hash": "5c6032c78efa7f90cd1715915e3f0102fff89cef77c12db36694d1cd45acba4a"
  },
  "kernelspec": {
   "display_name": "Python 3.9.4 ('luna-translate')",
   "language": "python",
   "name": "python3"
  },
  "language_info": {
   "codemirror_mode": {
    "name": "ipython",
    "version": 3
   },
   "file_extension": ".py",
   "mimetype": "text/x-python",
   "name": "python",
   "nbconvert_exporter": "python",
   "pygments_lexer": "ipython3",
   "version": "3.9.4 (default, Apr  9 2021, 11:43:21) [MSC v.1916 64 bit (AMD64)]"
  },
  "orig_nbformat": 4
 },
 "nbformat": 4,
 "nbformat_minor": 2
}
