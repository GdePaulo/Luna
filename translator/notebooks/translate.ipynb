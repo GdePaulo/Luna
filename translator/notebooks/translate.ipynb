{
 "cells": [
  {
   "cell_type": "code",
   "execution_count": null,
   "metadata": {},
   "outputs": [],
   "source": [
    "import pandas as pd\n",
    "\n",
    "import sys\n",
    "import os\n",
    "sys.path.append(os.path.abspath('../code'))\n",
    "import config\n",
    "from translate import Translate\n",
    "\n",
    "languages = [\"pap\", \"pap-simple\", \"nl\", \"nl-simple\"]\n",
    "\n",
    "hny_pap_nl = pd.read_csv(\"../data/hny/pap-nl.csv\", na_filter=False)\n",
    "stparkpap_pap_nl_name = \"-\".join(config.scrapeTarget[\"languages\"])\n",
    "stparkpap_pap_nl = pd.read_csv(f\"../data/stparkpap/{stparkpap_pap_nl_name}.csv\")#, index_col=0)\n",
    "crse = pd.read_csv(f\"../data/{config.crse['name']}/nl-pap.csv\")\n",
    "tatoeba = pd.read_csv(f\"../data/tatoeba/pap-nl.csv\")\n",
    "\n",
    "# corpus = pd.concat([hny_pap_nl], ignore_index=True)\n",
    "corpus = pd.concat([hny_pap_nl, stparkpap_pap_nl, crse, tatoeba], ignore_index=True)\n",
    "corpus = corpus[languages]\n",
    "corpus = Translate.attachType(corpus, \"pap-simple\")\n",
    "corpus\n",
    "\n",
    "corpus_hny = pd.concat([hny_pap_nl, stparkpap_pap_nl, crse, tatoeba], ignore_index=True)\n",
    "\n",
    "# Separate out !,?.\n",
    "# There are numbers in pap-simple\n",
    "# stpark has slasher and stuff. insert as other row?"
   ]
  },
  {
   "cell_type": "code",
   "execution_count": null,
   "metadata": {},
   "outputs": [],
   "source": [
    "trans = Translate()\n",
    "\n",
    "short_sentences = [\n",
    "    \"ami ta bai kas\",\n",
    "    \"mi stima mi yu-homber\",\n",
    "    \"ami ta kòre outo\",\n",
    "    \"mi no kier bai skol\",\n",
    "    \"mi no kier kumpra bo kacho\",\n",
    "    \"e ta hopi grandi\",\n",
    "    ]\n",
    "long_sentences = [\n",
    "    # \"mi no ta guste pasobra e ta parse un kabritu\",\n",
    "    # \"nan no tabata tin ningun idea pakiko e no a hasie\"\n",
    "    # \"mi kier duna bo un kos aki\",\n",
    "    # \"Mi no kier tende loke bo ta bisa\",\n",
    "    # \"Mi no kier tende loke bo ta bisa, pasobra tur biaha bo ta gaña\",\n",
    "    # \"Mi kier kumpra un grandi i un chiki\",\n",
    "    # \"Mi tin hopi gana di bai landa i kome na mi mama su kas\",\n",
    "    # \"Mi no kier kita mi karson\",\n",
    "    \"antiano no sa biba den sushi asina aki\",\n",
    "    \"Mi no gusta mi ruman pasobra e ta dal mi kada bia ku e wak mi.\",\n",
    "    \"Mi tin gana di kome un bon hamburger\",\n",
    "    \"E programa aki ta hopi malu\",\n",
    "    \"Pa konklui , un hende mester bisa ami si esun aki ta mas miho of mas malu.\"\n",
    "    \"Pa konklui mi kier purba un otro zin.\"\n",
    "    \"Mi kier kome pan\", \n",
    "    \"Segun ku mi tabata krese, mi mama a ripará ku mi tabata gusta plama kos for di otro i arma nan bèk.\"\n",
    "]\n",
    "test_sentence = \"mi yu di kriansa a pidi ami pa un pida bolo\""
   ]
  },
  {
   "cell_type": "code",
   "execution_count": null,
   "metadata": {},
   "outputs": [],
   "source": [
    "corpus_sentences = corpus[corpus[\"type\"]==\"sentence\"]\n",
    "corpus_words = corpus[corpus[\"type\"]==\"word\"]\n",
    "\n",
    "for test_sentence in long_sentences:\n",
    "# for test_sentence in [\"mayan\"]:\n",
    "    current_sentence = test_sentence\n",
    "    # translation_sentences = Translate.translateSubSentences(test_sentence, corpus_sentences)\n",
    "    # current_sentence = translation_sentences\n",
    "    # Avoid double translation of sentence translation if possible\n",
    "    translation_words = Translate.translateWords(current_sentence, corpus_words)\n",
    "    corrected = trans.correctSentence(translation_words)\n",
    "    print(f\"source: {test_sentence} \\ntranslation (sentence): {current_sentence}\\ntranslation (word): {translation_words}\\ncorrected: {corrected}\")\n",
    "    # print(f\"source: {sentence} \\ndest: {corrected}\")"
   ]
  }
 ],
 "metadata": {
  "interpreter": {
   "hash": "5c6032c78efa7f90cd1715915e3f0102fff89cef77c12db36694d1cd45acba4a"
  },
  "kernelspec": {
   "display_name": "Python 3.9.4 ('luna-translate')",
   "language": "python",
   "name": "python3"
  },
  "language_info": {
   "codemirror_mode": {
    "name": "ipython",
    "version": 3
   },
   "file_extension": ".py",
   "mimetype": "text/x-python",
   "name": "python",
   "nbconvert_exporter": "python",
   "pygments_lexer": "ipython3",
   "version": "3.9.4"
  },
  "orig_nbformat": 4
 },
 "nbformat": 4,
 "nbformat_minor": 2
}
