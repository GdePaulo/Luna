{
 "cells": [
  {
   "cell_type": "code",
   "execution_count": 1,
   "metadata": {},
   "outputs": [],
   "source": [
    "import pandas as pd\n",
    "import sys\n",
    "import os\n",
    "sys.path.append(os.path.abspath('../code'))\n",
    "import config\n",
    "from translate import Translate\n",
    "from spellcheck import Spellcheck\n",
    "from loader import Loader\n",
    "\n",
    "hny_pap_nl_raw = pd.read_csv(\"../data/hny/pap-nl.csv\", na_filter=False)\n",
    "hny_pap_nl = hny_pap_nl_raw[[\"pap-simple\", \"nl-simple\"]]\n",
    "pap_nl_dictionary = dict(zip(hny_pap_nl[\"pap-simple\"], hny_pap_nl[\"nl-simple\"]))\n",
    "# pap_nl_dictionary"
   ]
  },
  {
   "cell_type": "code",
   "execution_count": null,
   "metadata": {},
   "outputs": [],
   "source": [
    "spell = Spellcheck(spellchecker_corpus=corpus, lan=\"PAP-NL\", load=True)"
   ]
  },
  {
   "cell_type": "code",
   "execution_count": 2,
   "metadata": {},
   "outputs": [
    {
     "name": "stdout",
     "output_type": "stream",
     "text": [
      "PAP-NL\n"
     ]
    }
   ],
   "source": [
    "# Update tries\n",
    "language_options=[\"PAP-NL\"]\n",
    "\n",
    "for lan in language_options:\n",
    "    load = Loader()\n",
    "    _, dictionary_corpus = load.loadDictionary(lan=lan)\n",
    "    spell = Spellcheck(spellchecker_corpus=dictionary_corpus, lan=lan)\n",
    "    spell.saveTrees()"
   ]
  }
 ],
 "metadata": {
  "kernelspec": {
   "display_name": "Python 3.9.4 ('luna-translate')",
   "language": "python",
   "name": "python3"
  },
  "language_info": {
   "codemirror_mode": {
    "name": "ipython",
    "version": 3
   },
   "file_extension": ".py",
   "mimetype": "text/x-python",
   "name": "python",
   "nbconvert_exporter": "python",
   "pygments_lexer": "ipython3",
   "version": "3.9.4"
  },
  "orig_nbformat": 4,
  "vscode": {
   "interpreter": {
    "hash": "5c6032c78efa7f90cd1715915e3f0102fff89cef77c12db36694d1cd45acba4a"
   }
  }
 },
 "nbformat": 4,
 "nbformat_minor": 2
}
