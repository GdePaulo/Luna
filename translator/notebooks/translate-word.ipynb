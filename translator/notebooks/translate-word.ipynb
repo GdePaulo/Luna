{
 "cells": [
  {
   "cell_type": "code",
   "execution_count": 1,
   "metadata": {},
   "outputs": [
    {
     "name": "stdout",
     "output_type": "stream",
     "text": [
      "PAP-NL\n"
     ]
    }
   ],
   "source": [
    "import pandas as pd\n",
    "import sys\n",
    "import os\n",
    "sys.path.append(os.path.abspath('../code'))\n",
    "import config\n",
    "from translate import Translate\n",
    "from spellcheck import Spellcheck\n",
    "from loader import Loader\n",
    "\n",
    "# \"proxy\": \"http://localhost:5000\"\n",
    "\n",
    "# hny_pap_nl_raw = pd.read_csv(\"../data/hny/pap-nl.csv\", na_filter=False)\n",
    "# hny_pap_nl = hny_pap_nl_raw[[\"pap-simple\", \"nl-simple\"]]\n",
    "# pap_nl_dictionary = dict(zip(hny_pap_nl[\"pap-simple\"], hny_pap_nl[\"nl-simple\"]))\n",
    "# pap_nl_dictionary\n",
    "load = Loader()\n",
    "lan = \"PAP-NL\"\n",
    "dictionary, dictionary_corpus = load.loadDictionary(lan=lan)"
   ]
  },
  {
   "cell_type": "code",
   "execution_count": null,
   "metadata": {},
   "outputs": [],
   "source": [
    "spell = Spellcheck(spellchecker_corpus=dictionary_corpus, lan=lan, load=True)\n",
    "\n",
    "word = \"blusa\"\n",
    "translation = \"\"\n",
    "if word in dictionary:\n",
    "    translation = dictionary[word]\n",
    "else:\n",
    "    closest_words = spell.getPreSufCorrections(words=[word], penalize_mismatch=True)[word]\n",
    "    \n",
    "    print(closest_words)\n",
    "    if not closest_words:\n",
    "        translation = \"Word is not in dictionary\"\n",
    "    else:\n",
    "        corrected_word = closest_words[0][0]\n",
    "        translation = dictionary[corrected_word]\n",
    "translation"
   ]
  },
  {
   "cell_type": "code",
   "execution_count": 2,
   "metadata": {},
   "outputs": [
    {
     "name": "stdout",
     "output_type": "stream",
     "text": [
      "PAP-NL\n",
      "PAP-EN\n"
     ]
    }
   ],
   "source": [
    "# Update tries\n",
    "language_options=[\"PAP-NL\", \"PAP-EN\"]\n",
    "\n",
    "for lan in language_options:\n",
    "    load = Loader()\n",
    "    _, dictionary_corpus = load.loadDictionary(lan=lan)\n",
    "    spell = Spellcheck(spellchecker_corpus=dictionary_corpus, lan=lan)\n",
    "    spell.saveTrees()"
   ]
  }
 ],
 "metadata": {
  "kernelspec": {
   "display_name": "Python 3.9.4 ('luna-translate')",
   "language": "python",
   "name": "python3"
  },
  "language_info": {
   "codemirror_mode": {
    "name": "ipython",
    "version": 3
   },
   "file_extension": ".py",
   "mimetype": "text/x-python",
   "name": "python",
   "nbconvert_exporter": "python",
   "pygments_lexer": "ipython3",
   "version": "3.9.4"
  },
  "orig_nbformat": 4,
  "vscode": {
   "interpreter": {
    "hash": "5c6032c78efa7f90cd1715915e3f0102fff89cef77c12db36694d1cd45acba4a"
   }
  }
 },
 "nbformat": 4,
 "nbformat_minor": 2
}
