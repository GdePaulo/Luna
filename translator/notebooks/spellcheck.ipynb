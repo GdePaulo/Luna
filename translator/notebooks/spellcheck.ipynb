{
 "cells": [
  {
   "cell_type": "code",
   "execution_count": 1,
   "metadata": {},
   "outputs": [],
   "source": [
    "import pandas as pd\n",
    "import sys\n",
    "import os\n",
    "sys.path.append(os.path.abspath('../code'))\n",
    "import config\n",
    "from spellcheck import Spellcheck\n",
    "from loader import Loader\n",
    "from util import Util\n",
    "\n",
    "load = Loader()\n",
    "corpus = load.loadWords(lan=\"PAP(AW)\")\n",
    "\n",
    "sentence = \"mi man no ta bon pero manan mi kuna ta trese anto bini bek\"\n",
    "words = Util.findWords(sentence)"
   ]
  },
  {
   "cell_type": "code",
   "execution_count": 4,
   "metadata": {},
   "outputs": [],
   "source": [
    "spell = Spellcheck(spellchecker_corpus=corpus, lan=\"PAP(AW)\", load=True)"
   ]
  },
  {
   "cell_type": "code",
   "execution_count": 5,
   "metadata": {},
   "outputs": [
    {
     "data": {
      "text/plain": [
       "{'manan': [('man', 3), ('manca', 3), ('manda', 3)],\n",
       " 'kuna': [('cuna', 3), ('duna', 3), ('luna', 3)],\n",
       " 'trese': [('trece', 4), ('tres', 3), ('treat', 3)]}"
      ]
     },
     "execution_count": 5,
     "metadata": {},
     "output_type": "execute_result"
    }
   ],
   "source": [
    "spell.getPreSufCorrections(words=words, penalize_mismatch=True)"
   ]
  },
  {
   "cell_type": "code",
   "execution_count": 3,
   "metadata": {},
   "outputs": [],
   "source": [
    "# Update tries\n",
    "language_options=[\"PAP\", \"PAP(AW)\"]\n",
    "\n",
    "for lan in language_options:\n",
    "    load = Loader()\n",
    "    corpus = load.loadWords(lan=lan)\n",
    "    spell = Spellcheck(spellchecker_corpus=corpus, lan=lan)\n",
    "    spell.saveTrees()"
   ]
  }
 ],
 "metadata": {
  "kernelspec": {
   "display_name": "Python 3.9.4 ('luna-translate')",
   "language": "python",
   "name": "python3"
  },
  "language_info": {
   "codemirror_mode": {
    "name": "ipython",
    "version": 3
   },
   "file_extension": ".py",
   "mimetype": "text/x-python",
   "name": "python",
   "nbconvert_exporter": "python",
   "pygments_lexer": "ipython3",
   "version": "3.9.4"
  },
  "orig_nbformat": 4,
  "vscode": {
   "interpreter": {
    "hash": "5c6032c78efa7f90cd1715915e3f0102fff89cef77c12db36694d1cd45acba4a"
   }
  }
 },
 "nbformat": 4,
 "nbformat_minor": 2
}
