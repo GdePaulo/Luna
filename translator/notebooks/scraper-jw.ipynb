{
 "cells": [
  {
   "cell_type": "code",
   "execution_count": null,
   "metadata": {},
   "outputs": [],
   "source": [
    "import sys\n",
    "import os\n",
    "sys.path.append(os.path.abspath('../code'))\n",
    "import config\n",
    "import random\n",
    "URL = config.jwScrapeTarget[\"bblsite\"]\n"
   ]
  },
  {
   "cell_type": "code",
   "execution_count": null,
   "metadata": {},
   "outputs": [],
   "source": [
    "from selenium import webdriver\n",
    "from selenium.webdriver.chrome.service import Service\n",
    "from selenium.webdriver.chrome.options import Options\n",
    "from selenium.webdriver.common.keys import Keys\n",
    "from time import sleep\n",
    "\n",
    "DRIVER_PATH = r\"C:\\Users\\Ameno\\Desktop\\Drivers\\chromedriver.exe\"\n",
    "\n",
    "options = Options()\n",
    "options.headless = True\n",
    "options.add_argument(\"--window-size=1920,1200\")\n",
    "\n",
    "s = Service(DRIVER_PATH)\n",
    "\n",
    "driver = webdriver.Chrome(service=s)#, options=options)\n",
    "driver.get(URL)\n",
    "sleep(5)"
   ]
  },
  {
   "cell_type": "code",
   "execution_count": null,
   "metadata": {},
   "outputs": [],
   "source": [
    "from functools import reduce\n",
    "\n",
    "def dumpTextChapters(driver, chapters, out_file):\n",
    "    with open(out_file,'a', encoding=\"UTF-8\") as f:\n",
    "        # f.write(f\"--page: {page}--\\n\")\n",
    "        for lnum, link in enumerate(chapters[:]):\n",
    "            print(\"I'm opening \", link)\n",
    "            driver.get(link)\n",
    "            sleep(random.uniform(1,2.5))\n",
    "\n",
    "            f.write(f\"--chapter: {lnum+1}--\\n\")\n",
    "\n",
    "            for passage in driver.find_elements_by_xpath(config.jwScrapeTarget[\"passages\"]):\n",
    "                passage_id = passage.get_attribute(\"id\")\n",
    "                passage_text = passage.get_attribute(\"innerText\")\n",
    "                passage_text_lines = passage_text.split(\"\\n\")\n",
    "\n",
    "                if any(i.isdigit() for i in passage_text_lines[0]):\n",
    "                    print(\"Skipping \", passage_text_lines[0])\n",
    "                    passage_text_without_number = \"\\n\".join(passage_text_lines[1:])\n",
    "                else:\n",
    "                    passage_text_without_number = \"\\n\".join(passage_text_lines) \n",
    "\n",
    "                f.write(f\"--passage_id: {passage_id}--\\n\")\n",
    "                f.write(f\"--passage--\\n\")\n",
    "                f.write(passage_text_without_number)\n",
    "                f.write(\"\\n\")\n",
    "\n",
    "def getLinks(grid_name, append_id=False):\n",
    "    links = []\n",
    "    for rnum, row in enumerate(driver.find_elements_by_xpath(f\".//ul[@class='{grid_name}']/li\")):\n",
    "        link_element = row.find_element_by_xpath(\".//a\")\n",
    "        link = link_element.get_attribute(\"href\")\n",
    "        if append_id:\n",
    "            id = link_element.get_attribute(config.jwScrapeTarget[\"bkid\"])\n",
    "\n",
    "        if link:\n",
    "            if append_id:\n",
    "                links.append((link, id))\n",
    "            else:\n",
    "                links.append(link)\n",
    "    return links\n",
    "\n",
    "def get_link_for_language(link, language):\n",
    "    language_repls = config.jwScrapeTarget[\"languagerepls\"]\n",
    "    \n",
    "    language_link = link\n",
    "    if language != \"pap\":\n",
    "        language_link = reduce(lambda a, kv: a.replace(*kv), language_repls[language], link)\n",
    "\n",
    "    return language_link"
   ]
  },
  {
   "cell_type": "code",
   "execution_count": null,
   "metadata": {},
   "outputs": [],
   "source": [
    "hebrew_grid = config.jwScrapeTarget[\"hbgrid\"]\n",
    "greek_grid = config.jwScrapeTarget[\"gkgrid\"]\n",
    "\n",
    "hebrew = getLinks(hebrew_grid, append_id=True)\n",
    "greeks = getLinks(greek_grid, append_id=True)\n",
    "\n",
    "bible_links = hebrew + greeks\n",
    "\n",
    "languages = [\"pap\", \"en\", \"nl\"]\n",
    "for link, id in bible_links[:]:\n",
    "    \n",
    "    for language in languages:\n",
    "        language_link = get_link_for_language(link, language)\n",
    "        driver.get(language_link)\n",
    "        sleep(1)\n",
    "\n",
    "        chapters_grid = config.jwScrapeTarget[\"chpgrid\"]\n",
    "        chapters = getLinks(chapters_grid)\n",
    "        \n",
    "        bible_out_file = config.jwScrapeTarget[\"outbblpre\"] + f\"{language}/book-{id}.txt\"\n",
    "        dumpTextChapters(driver, chapters, bible_out_file)\n",
    "\n",
    "        sleep(1)\n"
   ]
  }
 ],
 "metadata": {
  "kernelspec": {
   "display_name": "Python 3.9.4 ('luna-translate')",
   "language": "python",
   "name": "python3"
  },
  "language_info": {
   "codemirror_mode": {
    "name": "ipython",
    "version": 3
   },
   "file_extension": ".py",
   "mimetype": "text/x-python",
   "name": "python",
   "nbconvert_exporter": "python",
   "pygments_lexer": "ipython3",
   "version": "3.9.4"
  },
  "orig_nbformat": 4,
  "vscode": {
   "interpreter": {
    "hash": "5c6032c78efa7f90cd1715915e3f0102fff89cef77c12db36694d1cd45acba4a"
   }
  }
 },
 "nbformat": 4,
 "nbformat_minor": 2
}
