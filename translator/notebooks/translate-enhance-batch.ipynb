{
 "cells": [
  {
   "cell_type": "code",
   "execution_count": null,
   "metadata": {},
   "outputs": [],
   "source": [
    "import pandas as pd\n",
    "import sys\n",
    "import os\n",
    "sys.path.append(os.path.abspath('../code'))\n",
    "import config\n",
    "from translate import Translate\n",
    "from spellcheck import Spellcheck\n",
    "from loader import Loader"
   ]
  },
  {
   "cell_type": "code",
   "execution_count": null,
   "metadata": {},
   "outputs": [],
   "source": [
    "cols = [\"pap-simple\", \"nl-simple\"]\n",
    "to_language = \"en-simple\"\n",
    "hny_pap_nl_raw = pd.read_csv(\"../data/hny/pap-nl.csv\", na_filter=False, usecols=cols)\n",
    "custom_pap_nl_raw = pd.read_csv(\"../data/custom/pap-nl.csv\", na_filter=False, usecols=cols)\n",
    "stpark_pap_nl_raw = pd.read_csv(\"../data/stparkpap/pap-nl(extracted_words).csv\", na_filter=False, usecols=cols)\n",
    "rblx_pap_nl_raw = pd.read_csv(\"../data/rblx/pap-nl.csv\", na_filter=False, usecols=cols)\n",
    "\n",
    "pap_nl_dfs = pd.concat([custom_pap_nl_raw, hny_pap_nl_raw, stpark_pap_nl_raw, rblx_pap_nl_raw], ignore_index=True)        \n",
    "len(pap_nl_dfs)"
   ]
  },
  {
   "cell_type": "code",
   "execution_count": null,
   "metadata": {},
   "outputs": [],
   "source": [
    "pap_nl_dfs_no_dupe = pap_nl_dfs.drop_duplicates(subset=cols, keep=\"first\", ignore_index=True)\n",
    "len(pap_nl_dfs_no_dupe)"
   ]
  },
  {
   "cell_type": "code",
   "execution_count": null,
   "metadata": {},
   "outputs": [],
   "source": [
    "pap_nl_dfs_no_dupe[cols[1:]].to_excel(\"../data/custom/enhanced/pap-nl-source.xlsx\", index=False)\n",
    "pap_nl_dfs_no_dupe[cols[:]].to_csv(\"../data/custom/enhanced/pap-nl-source.csv\")"
   ]
  },
  {
   "cell_type": "code",
   "execution_count": null,
   "metadata": {},
   "outputs": [],
   "source": [
    "pap_en_from_pap_nl = pd.read_excel(\"../data/custom/enhanced/pap-en-from-pap-nl.xlsx\")\n",
    "pap_nl_enhanced = pd.concat([pap_nl_dfs_no_dupe[[\"pap-simple\"]], pap_en_from_pap_nl], axis=1)\n",
    "# pap_en_from_pap_nl\n",
    "# pap_nl_dfs_no_dupe\n",
    "pap_nl_enhanced[cols[1]] = pap_nl_enhanced[cols[1]].str.strip()\n",
    "pap_nl_enhanced = pap_nl_enhanced.rename(columns={cols[1]:to_language})\n",
    "pap_nl_enhanced.to_csv(\"../data/custom/enhanced/pap-en-from-pap-nl.csv\")\n",
    "\n",
    "#Ignore extra words that already exist"
   ]
  },
  {
   "cell_type": "code",
   "execution_count": null,
   "metadata": {},
   "outputs": [],
   "source": []
  }
 ],
 "metadata": {
  "kernelspec": {
   "display_name": "Python 3.9.4 ('luna-translate')",
   "language": "python",
   "name": "python3"
  },
  "language_info": {
   "codemirror_mode": {
    "name": "ipython",
    "version": 3
   },
   "file_extension": ".py",
   "mimetype": "text/x-python",
   "name": "python",
   "nbconvert_exporter": "python",
   "pygments_lexer": "ipython3",
   "version": "3.9.4"
  },
  "orig_nbformat": 4,
  "vscode": {
   "interpreter": {
    "hash": "5c6032c78efa7f90cd1715915e3f0102fff89cef77c12db36694d1cd45acba4a"
   }
  }
 },
 "nbformat": 4,
 "nbformat_minor": 2
}
