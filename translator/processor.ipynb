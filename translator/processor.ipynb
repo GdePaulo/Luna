{
 "cells": [
  {
   "cell_type": "code",
   "execution_count": 13,
   "metadata": {},
   "outputs": [
    {
     "name": "stdout",
     "output_type": "stream",
     "text": [
      "                                                    definition\n",
      "word                                                          \n",
      "'na          geven (v. <duna>). <'na m'é!> - Geef hier! <Di...\n",
      "a            [znw] A, a; <di a te z.> - van a tot z. <Esun ...\n",
      "AAA                                    Aruba Airport Authority\n",
      "abandoná     opgeven, verlaten, in de steek laten (zie: <ba...\n",
      "abarká                                     omvatten; inhouden.\n",
      "...                                                        ...\n",
      "zundra                         opspelen; schelden; uitschelden\n",
      "zundrá       uitkaffering; uitbrander; scheldpartij. <Duna ...\n",
      "zundramento                                           gescheld\n",
      "zür                                                       zuur\n",
      "zürdeg                                    zuurdeeg; zuurdesem.\n",
      "\n",
      "[8318 rows x 1 columns]\n"
     ]
    }
   ],
   "source": [
    "import pandas as pd\n",
    "l = 0\n",
    "d = {}\n",
    "with open(\"data/pap-ned.txt\") as fileobject:\n",
    "    for line in fileobject:\n",
    "        l += 1\n",
    "        if \"=\" not in line:\n",
    "            continue\n",
    "        if l >= 109:\n",
    "            word, definition = line.split(\"=\", 1)\n",
    "            word = word.strip()[1:]\n",
    "            definition = definition.strip()\n",
    "            d[word] = definition\n",
    "df = pd.DataFrame.from_dict(d, orient=\"index\", columns=[\"definition\"])\n",
    "df.index.name = \"word\"\n",
    "print(df)"
   ]
  }
 ],
 "metadata": {
  "interpreter": {
   "hash": "5c6032c78efa7f90cd1715915e3f0102fff89cef77c12db36694d1cd45acba4a"
  },
  "kernelspec": {
   "display_name": "Python 3.9.4 ('luna-translate')",
   "language": "python",
   "name": "python3"
  },
  "language_info": {
   "codemirror_mode": {
    "name": "ipython",
    "version": 3
   },
   "file_extension": ".py",
   "mimetype": "text/x-python",
   "name": "python",
   "nbconvert_exporter": "python",
   "pygments_lexer": "ipython3",
   "version": "3.9.4"
  },
  "orig_nbformat": 4
 },
 "nbformat": 4,
 "nbformat_minor": 2
}
