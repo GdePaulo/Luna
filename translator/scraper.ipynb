{
 "cells": [
  {
   "cell_type": "code",
   "execution_count": null,
   "metadata": {},
   "outputs": [],
   "source": [
    "import config\n",
    "\n",
    "URL = config.scrapeTarget[\"site\"]"
   ]
  },
  {
   "cell_type": "code",
   "execution_count": null,
   "metadata": {},
   "outputs": [],
   "source": [
    "from selenium import webdriver\n",
    "from selenium.webdriver.chrome.service import Service\n",
    "from selenium.webdriver.chrome.options import Options\n",
    "from selenium.webdriver.common.keys import Keys\n",
    "from time import sleep\n",
    "\n",
    "DRIVER_PATH = r\"C:\\Users\\Ameno\\Desktop\\Drivers\\chromedriver.exe\"\n",
    "\n",
    "options = Options()\n",
    "options.headless = True\n",
    "options.add_argument(\"--window-size=1920,1200\")\n",
    "\n",
    "s = Service(DRIVER_PATH)\n",
    "\n",
    "driver = webdriver.Chrome(service=s)#, options=options)\n",
    "driver.get(URL)\n",
    "sleep(5)\n",
    "# print(driver.page_source)\n",
    "# driver.quit()"
   ]
  },
  {
   "cell_type": "code",
   "execution_count": null,
   "metadata": {},
   "outputs": [],
   "source": [
    "# print(driver.page_source)\n",
    "def dumpTranslations(driver, page):\n",
    "    with open(config.scrapeTarget[\"rawdatafile\"],'a') as f:\n",
    "        f.write(f\"--page: {page}--\\n\")\n",
    "        for rnum, row in enumerate(driver.find_elements_by_xpath(config.scrapeTarget[\"tablerows\"])):\n",
    "\n",
    "            f.write(f\"--word: {rnum+1}--\\n\")\n",
    "            cells = row.find_elements_by_xpath(\".//td\")[:5]\n",
    "            for i in range(0, 5):\n",
    "                if(i >= len(cells)):\n",
    "                    print(f\"Skipping word: {rnum}, definition nr: {i+1}\")\n",
    "                    continue\n",
    "                item = cells[i]\n",
    "                f.write(item.get_attribute(\"innerText\"))\n",
    "                f.write(\"\\n\")"
   ]
  },
  {
   "cell_type": "code",
   "execution_count": null,
   "metadata": {},
   "outputs": [],
   "source": [
    "import random\n",
    "webdriver.ActionChains(driver).send_keys(Keys.ESCAPE).perform()\n",
    "sleep(1.21)\n",
    "\n",
    "for i in range(0, 1):\n",
    "    btn = driver.find_element_by_xpath(config.getBtn(i+1))\n",
    "    print(f\"Currently at button {btn.text}\")\n",
    "    btn.click()\n",
    "    sleep(1)\n",
    "\n",
    "    print(f\"Saving and waiting for {sleep_duration} seconds\")\n",
    "    dumpTranslations(driver, i+1)\n",
    "    sleep_duration = random.uniform(2,4)\n",
    "    sleep(sleep_duration)\n",
    "# print(driver.page_source)\n"
   ]
  },
  {
   "cell_type": "code",
   "execution_count": null,
   "metadata": {},
   "outputs": [],
   "source": [
    "dumpTranslations(driver, 2)\n",
    "            # classes = item.get_attribute(\"class\")\n",
    "            # print(f\"attr class={classes}\")\n",
    "# import pandas as pd\n",
    "# df = pd.DataFrame.from_dict(d, orient=\"index\", columns=[\"definition\"])"
   ]
  }
 ],
 "metadata": {
  "interpreter": {
   "hash": "5c6032c78efa7f90cd1715915e3f0102fff89cef77c12db36694d1cd45acba4a"
  },
  "kernelspec": {
   "display_name": "Python 3.9.4 ('luna-translate')",
   "language": "python",
   "name": "python3"
  },
  "language_info": {
   "codemirror_mode": {
    "name": "ipython",
    "version": 3
   },
   "file_extension": ".py",
   "mimetype": "text/x-python",
   "name": "python",
   "nbconvert_exporter": "python",
   "pygments_lexer": "ipython3",
   "version": "3.9.4"
  },
  "orig_nbformat": 4
 },
 "nbformat": 4,
 "nbformat_minor": 2
}
