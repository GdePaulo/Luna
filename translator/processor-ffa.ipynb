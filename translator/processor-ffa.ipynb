{
 "cells": [
  {
   "cell_type": "code",
   "execution_count": null,
   "metadata": {},
   "outputs": [],
   "source": [
    "import pandas as pd\n",
    "import config\n",
    "import re\n",
    "from translate import Translate\n",
    "l = 0\n",
    "words = {}\n",
    "# there are brackets that immediately after arnott and also in the next line and also  between brackets or just new line brackets\n",
    "# w () [] or w \\n [] or w [s, s] or w [] \\n [] or () : explanation or type or w/w : alternate spelling or () ()\n",
    "test = \"\"\n",
    "# Consider \\n []\n",
    "with open(\"data/ffa/pap.txt\", encoding=\"UTF-8\") as fileobject:\n",
    "    for line in fileobject:\n",
    "        l += 1\n",
    "        if re.findall(r'P [\\d]* / [\\d]*', line) or config.ffy[\"mark\"] in line:\n",
    "            # print(f\"Skipping: {line} ...\")\n",
    "            continue\n",
    "        \n",
    "        without_paren = Translate.remove_tags(line, \"(\")\n",
    "        source = Translate.remove_tags(without_paren, \"[\")\n",
    "        source = source.strip()\n",
    "        # if not line.strip().isalpha():\n",
    "        #     # test += line\n",
    "        #     print(line, without_paren)\n",
    "        synonyms = Translate.find_between_tags(without_paren, \"[\")\n",
    "        synonyms = [synonym for synonym_str in synonyms for synonym in synonym_str.split(\",\")]\n",
    "        \n",
    "        if \"/\" in source:\n",
    "            split = source.split(\"/\")\n",
    "            source = split[0]\n",
    "            synonyms.append(split[1]) \n",
    "\n",
    "        if not source:\n",
    "            continue\n",
    "        \n",
    "        if not source.isalpha():\n",
    "            print(f\"NON ALPHA SOURCE: {source}\")\n",
    "\n",
    "\n",
    "        if synonyms:\n",
    "            found_synonym = False\n",
    "            for synonym in synonyms:\n",
    "                if synonym in words:\n",
    "                    found_synonym = True\n",
    "                    if source not in words[synonym]:\n",
    "                        words[synonym].append(source)\n",
    "            if not found_synonym:\n",
    "                words[source] = synonyms\n",
    "\n",
    "        else:\n",
    "            words[source] = []\n",
    "print(words)"
   ]
  }
 ],
 "metadata": {
  "interpreter": {
   "hash": "5c6032c78efa7f90cd1715915e3f0102fff89cef77c12db36694d1cd45acba4a"
  },
  "kernelspec": {
   "display_name": "Python 3.9.4 ('luna-translate')",
   "language": "python",
   "name": "python3"
  },
  "language_info": {
   "codemirror_mode": {
    "name": "ipython",
    "version": 3
   },
   "file_extension": ".py",
   "mimetype": "text/x-python",
   "name": "python",
   "nbconvert_exporter": "python",
   "pygments_lexer": "ipython3",
   "version": "3.9.4"
  },
  "orig_nbformat": 4
 },
 "nbformat": 4,
 "nbformat_minor": 2
}
