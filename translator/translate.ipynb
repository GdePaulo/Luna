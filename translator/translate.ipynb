{
 "cells": [
  {
   "cell_type": "code",
   "execution_count": null,
   "metadata": {},
   "outputs": [],
   "source": [
    "import pandas as pd\n",
    "import config \n",
    "\n",
    "hny_pap_nl = pd.read_csv(\"data/hny/pap-nl.csv\", index_col=0)\n",
    "stparkpap_pap_nl_name = \"-\".join(config.scrapeTarget[\"languages\"])\n",
    "stparkpap_pap_nl = pd.read_csv(f\"data/stparkpap/{stparkpap_pap_nl_name}.csv\")#, index_col=0)\n",
    "df = hny_pap_nl\n",
    "df.index.name\n",
    "stparkpap_pap_nl"
   ]
  },
  {
   "cell_type": "code",
   "execution_count": null,
   "metadata": {},
   "outputs": [],
   "source": [
    "from translate import Translate\n",
    "trans = Translate()\n",
    "\n",
    "short_sentences = [\n",
    "    \"ami ta bai kas\",\n",
    "    \"mi stima mi yu-homber\",\n",
    "    \"ami ta kòre outo\",\n",
    "    \"mi no kier bai skol\",\n",
    "    \"mi no kier kumpra bo kacho\",\n",
    "    \"e ta hopi grandi\",\n",
    "    ]\n",
    "long_sentences = [\n",
    "    # \"mi no ta guste pasobra e ta parse un kabritu\",\n",
    "    # \"nan no tabata tin ningun idea pakiko e no a hasie\"\n",
    "    # \"mi kier duna bo un kos aki\",\n",
    "    # \"Mi no kier tende loke bo ta bisa\",\n",
    "    # \"Mi no kier tende loke bo ta bisa, pasobra tur biaha bo ta gaña\",\n",
    "    # \"Mi kier kumpra un grandi i un chiki\",\n",
    "    # \"Mi tin hopi gana di bai landa i kome na mi mama su kas\"\n",
    "    \"Mi no kier kita mi karson\",\n",
    "    \"antiano no sa biba den sushi asinaki mes\"\n",
    "]\n",
    "\n",
    "for sentence in long_sentences:\n",
    "    translation = \"\"\n",
    "    for word in sentence.split():\n",
    "        word = word.lower()\n",
    "        Translate.attachClosest(df, word)\n",
    "\n",
    "        translation += df.iloc[0][\"nl-simple\"] + \" \"\n",
    "    corrected = trans.correctSentence(translation)\n",
    "    print(f\"source: {sentence} \\ntranslation: {translation}\\ncorrected: {corrected}\")\n",
    "    # print(f\"source: {sentence} \\ndest: {corrected}\")"
   ]
  },
  {
   "cell_type": "code",
   "execution_count": null,
   "metadata": {},
   "outputs": [],
   "source": [
    "import difflib\n",
    "\n",
    "# Sliding window?\n",
    "# Replace sub sentences\n",
    "# Longer ones get priority\n",
    "# In future make smarter instead of greedy to match most words\n",
    "def getSubSentences():\n",
    "    return\n",
    "difflib.get_close_matches(test_sentence, src_sent, n = 2, cutoff=0.8)\n",
    "score = difflib.SequenceMatcher(None, test_sentence, src_sent[1]).ratio()\n",
    "\n",
    "all_sentences = stparkpap_pap_nl[stparkpap_pap_nl[\"type\"] == \"sentence\"][[\"pap-simple\",\"nl-simple\"]]\n",
    "print(all_sentences)\n",
    "all_sentences[\"closest\"] = all_sentences.apply(lambda row: min( \n",
    "    difflib.SequenceMatcher(None, Translate.remove_accents(row[\"pap-simple\"]), test_sentence).ratio(),\n",
    "    difflib.SequenceMatcher(None, row[\"pap-simple\"], test_sentence).ratio()\n",
    "), axis=1)\n",
    "all_sentences.sort_values(by=\"closest\", inplace= True, ascending=False)\n",
    "all_sentences.head(3)"
   ]
  }
 ],
 "metadata": {
  "interpreter": {
   "hash": "5c6032c78efa7f90cd1715915e3f0102fff89cef77c12db36694d1cd45acba4a"
  },
  "kernelspec": {
   "display_name": "Python 3.9.4 ('luna-translate')",
   "language": "python",
   "name": "python3"
  },
  "language_info": {
   "codemirror_mode": {
    "name": "ipython",
    "version": 3
   },
   "file_extension": ".py",
   "mimetype": "text/x-python",
   "name": "python",
   "nbconvert_exporter": "python",
   "pygments_lexer": "ipython3",
   "version": "3.9.4"
  },
  "orig_nbformat": 4
 },
 "nbformat": 4,
 "nbformat_minor": 2
}
