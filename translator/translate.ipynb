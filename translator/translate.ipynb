{
 "cells": [
  {
   "cell_type": "code",
   "execution_count": null,
   "metadata": {},
   "outputs": [],
   "source": [
    "import pandas as pd\n",
    "\n",
    "hny_pap_nl = pd.read_csv(\"data/hny/pap-nl.csv\", index_col=0)\n",
    "df = hny_pap_nl\n",
    "df.index.name"
   ]
  },
  {
   "cell_type": "code",
   "execution_count": null,
   "metadata": {},
   "outputs": [],
   "source": [
    "from translate import Translate\n",
    "trans = Translate()\n",
    "\n",
    "sentence1 = \"ami ta bai kas\"\n",
    "sentence2 = \"mi stima mi yu-homber\"\n",
    "sentence3 = \"ami ta kòre outo\"\n",
    "sentence4 = \"mi no kier bai skol\"\n",
    "sentence5 = \"mi no kier kumpra bo kacho\"\n",
    "sentence6 = \"e ta hopi grandi\"  \n",
    "sentence7 = \"ami ta bai kas anto despues bini bèk\"\n",
    "sentence8 = \"mi no kier kumpra e kacho di abo\"\n",
    "translation = \"\"\n",
    "\n",
    "for sentence in [sentence1, sentence2, sentence3, sentence4, sentence5, sentence6, sentence7, sentence8]:\n",
    "    translation = \"\"\n",
    "    for word in sentence.split():\n",
    "        word = word.lower()\n",
    "        Translate.attachClosest(df, word)\n",
    "\n",
    "        translation += df.iloc[0][\"nl-simple\"] + \" \"\n",
    "    corrected = trans.correctSentence(translation)\n",
    "    print(f\"source: {sentence} \\ntranslation: {translation}\\ncorrected: {corrected}\")"
   ]
  }
 ],
 "metadata": {
  "interpreter": {
   "hash": "5c6032c78efa7f90cd1715915e3f0102fff89cef77c12db36694d1cd45acba4a"
  },
  "kernelspec": {
   "display_name": "Python 3.9.4 ('luna-translate')",
   "language": "python",
   "name": "python3"
  },
  "language_info": {
   "codemirror_mode": {
    "name": "ipython",
    "version": 3
   },
   "file_extension": ".py",
   "mimetype": "text/x-python",
   "name": "python",
   "nbconvert_exporter": "python",
   "pygments_lexer": "ipython3",
   "version": "3.9.4"
  },
  "orig_nbformat": 4
 },
 "nbformat": 4,
 "nbformat_minor": 2
}
