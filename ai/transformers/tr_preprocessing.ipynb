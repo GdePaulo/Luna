{
 "cells": [
  {
   "cell_type": "code",
   "execution_count": 3,
   "metadata": {},
   "outputs": [
    {
     "name": "stderr",
     "output_type": "stream",
     "text": [
      "C:\\Users\\Ameno\\Anaconda3\\envs\\luna-ai\\lib\\site-packages\\tqdm\\auto.py:22: TqdmWarning: IProgress not found. Please update jupyter and ipywidgets. See https://ipywidgets.readthedocs.io/en/stable/user_install.html\n",
      "  from .autonotebook import tqdm as notebook_tqdm\n"
     ]
    }
   ],
   "source": [
    "import transformers as tr\n",
    "import torch as ts\n",
    "# use own pytorch training. matching saved with noted model weights is probably easier than. also try using own data set"
   ]
  },
  {
   "cell_type": "code",
   "execution_count": 4,
   "metadata": {},
   "outputs": [],
   "source": [
    "tokenizer = tr.AutoTokenizer.from_pretrained(\"bert-base-cased\")"
   ]
  },
  {
   "cell_type": "code",
   "execution_count": 5,
   "metadata": {},
   "outputs": [
    {
     "name": "stdout",
     "output_type": "stream",
     "text": [
      "{'input_ids': tensor([[  101,  1252,  1184,  1164,  1248,  6462,   136,   102,     0,     0,\n",
      "             0,     0,     0,     0,     0],\n",
      "        [  101,  1790,   112,   189,  1341,  1119,  3520,  1164,  1248,  6462,\n",
      "           117, 21902,  1643,   119,   102],\n",
      "        [  101,  1327,  1164,  5450, 23434,   136,   102,     0,     0,     0,\n",
      "             0,     0,     0,     0,     0]]), 'token_type_ids': tensor([[0, 0, 0, 0, 0, 0, 0, 0, 0, 0, 0, 0, 0, 0, 0],\n",
      "        [0, 0, 0, 0, 0, 0, 0, 0, 0, 0, 0, 0, 0, 0, 0],\n",
      "        [0, 0, 0, 0, 0, 0, 0, 0, 0, 0, 0, 0, 0, 0, 0]]), 'attention_mask': tensor([[1, 1, 1, 1, 1, 1, 1, 1, 0, 0, 0, 0, 0, 0, 0],\n",
      "        [1, 1, 1, 1, 1, 1, 1, 1, 1, 1, 1, 1, 1, 1, 1],\n",
      "        [1, 1, 1, 1, 1, 1, 1, 0, 0, 0, 0, 0, 0, 0, 0]])}\n"
     ]
    }
   ],
   "source": [
    "batch_sentences = [\n",
    "    \"But what about second breakfast?\",\n",
    "    \"Don't think he knows about second breakfast, Pip.\",\n",
    "    \"What about elevensies?\",\n",
    "]\n",
    "encoded_input = tokenizer(batch_sentences, padding=True, truncation=True, return_tensors=\"pt\")\n",
    "print(encoded_input)"
   ]
  },
  {
   "cell_type": "code",
   "execution_count": 6,
   "metadata": {},
   "outputs": [
    {
     "data": {
      "text/plain": [
       "'[CLS] But what about second breakfast? [SEP] [PAD] [PAD] [PAD] [PAD] [PAD] [PAD] [PAD]'"
      ]
     },
     "execution_count": 6,
     "metadata": {},
     "output_type": "execute_result"
    }
   ],
   "source": [
    "tokenizer.decode(encoded_input[\"input_ids\"][0])"
   ]
  },
  {
   "cell_type": "code",
   "execution_count": 7,
   "metadata": {},
   "outputs": [
    {
     "name": "stderr",
     "output_type": "stream",
     "text": [
      "Reusing dataset yelp_review_full (C:\\Users\\Ameno\\.cache\\huggingface\\datasets\\yelp_review_full\\yelp_review_full\\1.0.0\\e8e18e19d7be9e75642fc66b198abadb116f73599ec89a69ba5dd8d1e57ba0bf)\n",
      "100%|██████████| 2/2 [00:00<00:00,  8.10it/s]\n"
     ]
    },
    {
     "data": {
      "text/plain": [
       "{'label': 0,\n",
       " 'text': 'My expectations for McDonalds are t rarely high. But for one to still fail so spectacularly...that takes something special!\\\\nThe cashier took my friends\\'s order, then promptly ignored me. I had to force myself in front of a cashier who opened his register to wait on the person BEHIND me. I waited over five minutes for a gigantic order that included precisely one kid\\'s meal. After watching two people who ordered after me be handed their food, I asked where mine was. The manager started yelling at the cashiers for \\\\\"serving off their orders\\\\\" when they didn\\'t have their food. But neither cashier was anywhere near those controls, and the manager was the one serving food to customers and clearing the boards.\\\\nThe manager was rude when giving me my order. She didn\\'t make sure that I had everything ON MY RECEIPT, and never even had the decency to apologize that I felt I was getting poor service.\\\\nI\\'ve eaten at various McDonalds restaurants for over 30 years. I\\'ve worked at more than one location. I expect bad days, bad moods, and the occasional mistake. But I have yet to have a decent experience at this store. It will remain a place I avoid unless someone in my party needs to avoid illness from low blood sugar. Perhaps I should go back to the racially biased service of Steak n Shake instead!'}"
      ]
     },
     "execution_count": 7,
     "metadata": {},
     "output_type": "execute_result"
    }
   ],
   "source": [
    "from datasets import load_dataset\n",
    "\n",
    "dataset = load_dataset(\"yelp_review_full\")\n",
    "dataset[\"train\"][100]"
   ]
  },
  {
   "cell_type": "code",
   "execution_count": 8,
   "metadata": {},
   "outputs": [
    {
     "name": "stderr",
     "output_type": "stream",
     "text": [
      "Loading cached processed dataset at C:\\Users\\Ameno\\.cache\\huggingface\\datasets\\yelp_review_full\\yelp_review_full\\1.0.0\\e8e18e19d7be9e75642fc66b198abadb116f73599ec89a69ba5dd8d1e57ba0bf\\cache-1212de8c9c92504b.arrow\n",
      "Loading cached processed dataset at C:\\Users\\Ameno\\.cache\\huggingface\\datasets\\yelp_review_full\\yelp_review_full\\1.0.0\\e8e18e19d7be9e75642fc66b198abadb116f73599ec89a69ba5dd8d1e57ba0bf\\cache-7a0846779351e1d6.arrow\n"
     ]
    }
   ],
   "source": [
    "tokenized_datasets = dataset.map(lambda x: tokenizer(x['text'], padding=\"max_length\", truncation=True), batched=True)"
   ]
  },
  {
   "cell_type": "code",
   "execution_count": 9,
   "metadata": {},
   "outputs": [
    {
     "name": "stderr",
     "output_type": "stream",
     "text": [
      "Loading cached shuffled indices for dataset at C:\\Users\\Ameno\\.cache\\huggingface\\datasets\\yelp_review_full\\yelp_review_full\\1.0.0\\e8e18e19d7be9e75642fc66b198abadb116f73599ec89a69ba5dd8d1e57ba0bf\\cache-385f4f630def7870.arrow\n",
      "Loading cached shuffled indices for dataset at C:\\Users\\Ameno\\.cache\\huggingface\\datasets\\yelp_review_full\\yelp_review_full\\1.0.0\\e8e18e19d7be9e75642fc66b198abadb116f73599ec89a69ba5dd8d1e57ba0bf\\cache-5550b17c557af15e.arrow\n"
     ]
    }
   ],
   "source": [
    "small_train_dataset = tokenized_datasets[\"train\"].shuffle(seed=42).select(range(4))\n",
    "small_eval_dataset = tokenized_datasets[\"test\"].shuffle(seed=42).select(range(4))"
   ]
  },
  {
   "cell_type": "code",
   "execution_count": 10,
   "metadata": {},
   "outputs": [
    {
     "data": {
      "text/plain": [
       "Dataset({\n",
       "    features: ['label', 'text', 'input_ids', 'token_type_ids', 'attention_mask'],\n",
       "    num_rows: 4\n",
       "})"
      ]
     },
     "execution_count": 10,
     "metadata": {},
     "output_type": "execute_result"
    }
   ],
   "source": [
    "small_train_dataset"
   ]
  },
  {
   "cell_type": "code",
   "execution_count": 11,
   "metadata": {},
   "outputs": [
    {
     "name": "stderr",
     "output_type": "stream",
     "text": [
      "Some weights of the model checkpoint at bert-base-cased were not used when initializing BertForSequenceClassification: ['cls.predictions.transform.LayerNorm.weight', 'cls.predictions.transform.LayerNorm.bias', 'cls.predictions.transform.dense.bias', 'cls.predictions.transform.dense.weight', 'cls.seq_relationship.weight', 'cls.predictions.decoder.weight', 'cls.predictions.bias', 'cls.seq_relationship.bias']\n",
      "- This IS expected if you are initializing BertForSequenceClassification from the checkpoint of a model trained on another task or with another architecture (e.g. initializing a BertForSequenceClassification model from a BertForPreTraining model).\n",
      "- This IS NOT expected if you are initializing BertForSequenceClassification from the checkpoint of a model that you expect to be exactly identical (initializing a BertForSequenceClassification model from a BertForSequenceClassification model).\n",
      "Some weights of BertForSequenceClassification were not initialized from the model checkpoint at bert-base-cased and are newly initialized: ['classifier.weight', 'classifier.bias']\n",
      "You should probably TRAIN this model on a down-stream task to be able to use it for predictions and inference.\n"
     ]
    }
   ],
   "source": [
    "from transformers import AutoModelForSequenceClassification\n",
    "\n",
    "# Fetches the pre- trained model of BERT, removes the head and replaces it with a classification head with specified output nodes \n",
    "model = AutoModelForSequenceClassification.from_pretrained(\"bert-base-cased\", num_labels=5)\n",
    "\n",
    "# Freeze base model parameters\n",
    "for param in model.base_model.parameters():\n",
    "    param.requires_grad = False"
   ]
  },
  {
   "cell_type": "code",
   "execution_count": 17,
   "metadata": {},
   "outputs": [
    {
     "name": "stderr",
     "output_type": "stream",
     "text": [
      "PyTorch: setting up devices\n",
      "The default value for the training argument `--report_to` will change in v5 (from all installed integrations to none). In v5, you will need to use `--report_to all` to get the same behavior as now. You should start updating your code and make this info disappear :-).\n"
     ]
    }
   ],
   "source": [
    "from transformers import TrainingArguments, Trainer\n",
    "\n",
    "\n",
    "# DO THIS MANUALLY WITH PYTORCH AFTERWARDS \n",
    "training_args = TrainingArguments(output_dir=\"test_trainer\", evaluation_strategy=\"epoch\", per_device_train_batch_size=2, per_device_eval_batch_size=2)"
   ]
  },
  {
   "cell_type": "code",
   "execution_count": 13,
   "metadata": {},
   "outputs": [],
   "source": [
    "import numpy as np\n",
    "from datasets import load_metric\n",
    "\n",
    "metric = load_metric(\"accuracy\")"
   ]
  },
  {
   "cell_type": "code",
   "execution_count": 14,
   "metadata": {},
   "outputs": [],
   "source": [
    "def compute_metrics(eval_pred):\n",
    "    logits, labels = eval_pred\n",
    "    print(\"Logits,labels:\", logits, labels)\n",
    "    print(\"Length Logits,labels:\", len(logits), len(labels))\n",
    "    predictions = np.argmax(logits, axis=1)\n",
    "    print(\"Predictions:\", predictions)\n",
    "    return metric.compute(predictions=predictions, references=labels)"
   ]
  },
  {
   "cell_type": "code",
   "execution_count": 16,
   "metadata": {},
   "outputs": [
    {
     "name": "stderr",
     "output_type": "stream",
     "text": [
      "The following columns in the training set  don't have a corresponding argument in `BertForSequenceClassification.forward` and have been ignored: text. If text are not expected by `BertForSequenceClassification.forward`,  you can safely ignore this message.\n",
      "C:\\Users\\Ameno\\Anaconda3\\envs\\luna-ai\\lib\\site-packages\\transformers\\optimization.py:306: FutureWarning: This implementation of AdamW is deprecated and will be removed in a future version. Use the PyTorch implementation torch.optim.AdamW instead, or set `no_deprecation_warning=True` to disable this warning\n",
      "  warnings.warn(\n",
      "***** Running training *****\n",
      "  Num examples = 4\n",
      "  Num Epochs = 3\n",
      "  Instantaneous batch size per device = 2\n",
      "  Total train batch size (w. parallel, distributed & accumulation) = 2\n",
      "  Gradient Accumulation steps = 1\n",
      "  Total optimization steps = 6\n",
      " 33%|███▎      | 2/6 [00:08<00:16,  4.16s/it]The following columns in the evaluation set  don't have a corresponding argument in `BertForSequenceClassification.forward` and have been ignored: text. If text are not expected by `BertForSequenceClassification.forward`,  you can safely ignore this message.\n",
      "***** Running Evaluation *****\n",
      "  Num examples = 4\n",
      "  Batch size = 8\n",
      "\n",
      " 33%|███▎      | 2/6 [00:14<00:16,  4.16s/it]"
     ]
    },
    {
     "name": "stdout",
     "output_type": "stream",
     "text": [
      "Logits,labels: [[-0.538383    0.5337215   0.5731572  -0.11133076 -0.12448423]\n",
      " [-0.5120326   0.57388365  0.47389227 -0.11375438 -0.11103021]\n",
      " [-0.58758616  0.5968258   0.5394944  -0.01521367 -0.06999421]\n",
      " [-0.54773515  0.5843127   0.5431256   0.02034825 -0.19257933]] [2 4 1 4]\n",
      "Length Logits,labels: 4 4\n",
      "Predictions: [2 1 1 1]\n",
      "{'eval_loss': 1.5561915636062622, 'eval_accuracy': 0.5, 'eval_runtime': 6.2501, 'eval_samples_per_second': 0.64, 'eval_steps_per_second': 0.16, 'epoch': 1.0}\n"
     ]
    },
    {
     "name": "stderr",
     "output_type": "stream",
     "text": [
      " 67%|██████▋   | 4/6 [00:21<00:10,  5.32s/it]The following columns in the evaluation set  don't have a corresponding argument in `BertForSequenceClassification.forward` and have been ignored: text. If text are not expected by `BertForSequenceClassification.forward`,  you can safely ignore this message.\n",
      "***** Running Evaluation *****\n",
      "  Num examples = 4\n",
      "  Batch size = 8\n",
      "\n",
      " 67%|██████▋   | 4/6 [00:26<00:10,  5.32s/it]"
     ]
    },
    {
     "name": "stdout",
     "output_type": "stream",
     "text": [
      "Logits,labels: [[-0.5214137   0.5049325   0.5695592  -0.14008394 -0.10587934]\n",
      " [-0.49494272  0.5447287   0.47052875 -0.14284314 -0.09227729]\n",
      " [-0.56935954  0.566539    0.53444016 -0.04554288 -0.0502921 ]\n",
      " [-0.5297557   0.55436563  0.538118   -0.00963444 -0.1729612 ]] [2 4 1 4]\n",
      "Length Logits,labels: 4 4\n",
      "Predictions: [2 1 1 1]\n",
      "{'eval_loss': 1.5449827909469604, 'eval_accuracy': 0.5, 'eval_runtime': 5.292, 'eval_samples_per_second': 0.756, 'eval_steps_per_second': 0.189, 'epoch': 2.0}\n"
     ]
    },
    {
     "name": "stderr",
     "output_type": "stream",
     "text": [
      "100%|██████████| 6/6 [00:33<00:00,  5.54s/it]The following columns in the evaluation set  don't have a corresponding argument in `BertForSequenceClassification.forward` and have been ignored: text. If text are not expected by `BertForSequenceClassification.forward`,  you can safely ignore this message.\n",
      "***** Running Evaluation *****\n",
      "  Num examples = 4\n",
      "  Batch size = 8\n",
      "                                             \n",
      "100%|██████████| 6/6 [00:39<00:00,  5.54s/it]\n",
      "\n",
      "Training completed. Do not forget to share your model on huggingface.co/models =)\n",
      "\n",
      "\n",
      "100%|██████████| 6/6 [00:39<00:00,  6.64s/it]"
     ]
    },
    {
     "name": "stdout",
     "output_type": "stream",
     "text": [
      "Logits,labels: [[-0.51801574  0.49247348  0.5720341  -0.15254135 -0.0962552 ]\n",
      " [-0.49158627  0.5320278   0.47309422 -0.15553589 -0.08244899]\n",
      " [-0.5655383   0.55357647  0.53641474 -0.05851236 -0.0402116 ]\n",
      " [-0.5259829   0.5415562   0.54015946 -0.02245489 -0.16300747]] [2 4 1 4]\n",
      "Length Logits,labels: 4 4\n",
      "Predictions: [2 1 1 1]\n",
      "{'eval_loss': 1.539475679397583, 'eval_accuracy': 0.5, 'eval_runtime': 6.031, 'eval_samples_per_second': 0.663, 'eval_steps_per_second': 0.166, 'epoch': 3.0}\n",
      "{'train_runtime': 39.8541, 'train_samples_per_second': 0.301, 'train_steps_per_second': 0.151, 'train_loss': 1.8410495122273762, 'epoch': 3.0}\n"
     ]
    },
    {
     "name": "stderr",
     "output_type": "stream",
     "text": [
      "\n"
     ]
    },
    {
     "data": {
      "text/plain": [
       "TrainOutput(global_step=6, training_loss=1.8410495122273762, metrics={'train_runtime': 39.8541, 'train_samples_per_second': 0.301, 'train_steps_per_second': 0.151, 'train_loss': 1.8410495122273762, 'epoch': 3.0})"
      ]
     },
     "execution_count": 16,
     "metadata": {},
     "output_type": "execute_result"
    }
   ],
   "source": [
    "trainer = Trainer(\n",
    "    model=model,\n",
    "    args=training_args,\n",
    "    train_dataset=small_train_dataset,\n",
    "    eval_dataset=small_eval_dataset, \n",
    "    compute_metrics=compute_metrics\n",
    ")\n",
    "\n",
    "trainer.train()"
   ]
  },
  {
   "cell_type": "code",
   "execution_count": null,
   "metadata": {},
   "outputs": [
    {
     "name": "stderr",
     "output_type": "stream",
     "text": [
      "The following columns in the evaluation set  don't have a corresponding argument in `BertForSequenceClassification.forward` and have been ignored: text. If text are not expected by `BertForSequenceClassification.forward`,  you can safely ignore this message.\n",
      "***** Running Evaluation *****\n",
      "  Num examples = 24\n",
      "  Batch size = 8\n",
      "\n",
      "\n",
      "\n",
      "\n",
      "\n",
      "\u001b[A\u001b[A\u001b[A\u001b[A\u001b[A\n",
      "\n",
      "\n",
      "\n",
      "\n",
      "\u001b[A\u001b[A\u001b[A\u001b[A\u001b[A\n",
      "\n",
      "\n",
      "\n",
      "\n",
      "\u001b[A\u001b[A\u001b[A\u001b[A\u001b[A"
     ]
    },
    {
     "name": "stdout",
     "output_type": "stream",
     "text": [
      "Logits,labels: [[ 0.18258709  0.6449136   0.02170461 -0.05187801  0.04040352]\n",
      " [ 0.1297358   0.52309656  0.13992578  0.01721375  0.04056168]\n",
      " [ 0.12446832  0.3988679   0.29450804 -0.11364052  0.19103867]\n",
      " [ 0.11484936  0.43675023  0.18905312 -0.10919274  0.20120177]\n",
      " [ 0.0477355   0.4001835   0.16998968 -0.07382765  0.20749728]\n",
      " [ 0.16096789  0.5558137   0.16383743 -0.02628025  0.16251692]\n",
      " [ 0.10272156  0.6948503   0.02308258  0.05988012 -0.01831058]\n",
      " [-0.00119486  0.49840537  0.10345562 -0.08012985  0.19469029]\n",
      " [ 0.18575524  0.51793563  0.19671038 -0.08756423  0.17177215]\n",
      " [ 0.14862874  0.4860131   0.15348169 -0.05234826  0.1371122 ]\n",
      " [ 0.16855292  0.5516685   0.1913124  -0.05412991  0.10209301]\n",
      " [ 0.06834032  0.4326025   0.26622927 -0.17369732  0.2609436 ]\n",
      " [ 0.11839488  0.41477114  0.26771176 -0.17259559  0.25046068]\n",
      " [ 0.10908683  0.47811532  0.20536703 -0.128439    0.20818639]\n",
      " [ 0.18329838  0.42602223  0.15838951 -0.12605736  0.18591505]\n",
      " [ 0.0658401   0.4718269   0.20397963 -0.04847784  0.2177772 ]\n",
      " [ 0.14592811  0.551311    0.15957567 -0.0635668   0.10438544]\n",
      " [ 0.2237764   0.5377485   0.11964673 -0.06783772  0.1675781 ]\n",
      " [ 0.15322247  0.5909307   0.1280222  -0.05359697  0.07731634]\n",
      " [ 0.17288338  0.5307979   0.17338872 -0.08429828  0.14605215]\n",
      " [ 0.15785475  0.46273336  0.27367696 -0.2180867   0.33595213]\n",
      " [ 0.18008536  0.48766983  0.22961989 -0.12648873  0.16745153]\n",
      " [ 0.10123834  0.5931318   0.05732426  0.09569292  0.0299401 ]\n",
      " [ 0.2419288   0.46042636  0.13173738 -0.14414378  0.1571556 ]] [2 4 1 4 3 4 2 3 2 3 0 0 3 2 2 1 3 1 2 2 1 2 3 1]\n",
      "Predictions: [1 1 1 1 1 1 1 1 1 1 1 1 1 1 1 1 1 1 1 1 1 1 1 1]\n"
     ]
    },
    {
     "name": "stderr",
     "output_type": "stream",
     "text": [
      "100%|██████████| 3/3 [00:34<00:00, 11.57s/it]\n"
     ]
    },
    {
     "data": {
      "text/plain": [
       "{'eval_loss': 1.650819182395935,\n",
       " 'eval_accuracy': 0.20833333333333334,\n",
       " 'eval_runtime': 51.0834,\n",
       " 'eval_samples_per_second': 0.47,\n",
       " 'eval_steps_per_second': 0.059,\n",
       " 'epoch': 3.0}"
      ]
     },
     "execution_count": 47,
     "metadata": {},
     "output_type": "execute_result"
    }
   ],
   "source": [
    "trainer.evaluate()"
   ]
  },
  {
   "cell_type": "code",
   "execution_count": null,
   "metadata": {},
   "outputs": [],
   "source": [
    "\n",
    "ts.save(model.state_dict(), \"../model/bert.pt\")"
   ]
  },
  {
   "cell_type": "code",
   "execution_count": null,
   "metadata": {},
   "outputs": [
    {
     "name": "stderr",
     "output_type": "stream",
     "text": [
      "loading configuration file https://huggingface.co/bert-base-cased/resolve/main/config.json from cache at C:\\Users\\Ameno/.cache\\huggingface\\transformers\\a803e0468a8fe090683bdc453f4fac622804f49de86d7cecaee92365d4a0f829.a64a22196690e0e82ead56f388a3ef3a50de93335926ccfa20610217db589307\n",
      "Model config BertConfig {\n",
      "  \"architectures\": [\n",
      "    \"BertForMaskedLM\"\n",
      "  ],\n",
      "  \"attention_probs_dropout_prob\": 0.1,\n",
      "  \"classifier_dropout\": null,\n",
      "  \"gradient_checkpointing\": false,\n",
      "  \"hidden_act\": \"gelu\",\n",
      "  \"hidden_dropout_prob\": 0.1,\n",
      "  \"hidden_size\": 768,\n",
      "  \"initializer_range\": 0.02,\n",
      "  \"intermediate_size\": 3072,\n",
      "  \"layer_norm_eps\": 1e-12,\n",
      "  \"max_position_embeddings\": 512,\n",
      "  \"model_type\": \"bert\",\n",
      "  \"num_attention_heads\": 12,\n",
      "  \"num_hidden_layers\": 12,\n",
      "  \"pad_token_id\": 0,\n",
      "  \"position_embedding_type\": \"absolute\",\n",
      "  \"return_dict\": false,\n",
      "  \"transformers_version\": \"4.18.0\",\n",
      "  \"type_vocab_size\": 2,\n",
      "  \"use_cache\": true,\n",
      "  \"vocab_size\": 28996\n",
      "}\n",
      "\n",
      "loading weights file https://huggingface.co/bert-base-cased/resolve/main/pytorch_model.bin from cache at C:\\Users\\Ameno/.cache\\huggingface\\transformers\\092cc582560fc3833e556b3f833695c26343cb54b7e88cd02d40821462a74999.1f48cab6c959fc6c360d22bea39d06959e90f5b002e77e836d2da45464875cda\n",
      "Some weights of the model checkpoint at bert-base-cased were not used when initializing BertModel: ['cls.seq_relationship.bias', 'cls.predictions.transform.dense.weight', 'cls.predictions.decoder.weight', 'cls.predictions.transform.dense.bias', 'cls.predictions.transform.LayerNorm.weight', 'cls.predictions.bias', 'cls.predictions.transform.LayerNorm.bias', 'cls.seq_relationship.weight']\n",
      "- This IS expected if you are initializing BertModel from the checkpoint of a model trained on another task or with another architecture (e.g. initializing a BertForSequenceClassification model from a BertForPreTraining model).\n",
      "- This IS NOT expected if you are initializing BertModel from the checkpoint of a model that you expect to be exactly identical (initializing a BertForSequenceClassification model from a BertForSequenceClassification model).\n",
      "All the weights of BertModel were initialized from the model checkpoint at bert-base-cased.\n",
      "If your task is similar to the task the model of the checkpoint was trained on, you can already use BertModel for predictions without further training.\n"
     ]
    }
   ],
   "source": [
    "class hugBert(ts.nn.Module):\n",
    "  def __init__(self, num_classes):\n",
    "    super(hugBert, self).__init__()\n",
    "    # device = ts.device('cuda' if ts.cuda.is_available() else 'cpu')\n",
    "    self.bert = tr.BertModel.from_pretrained('bert-base-cased', return_dict=True)#.to(device)\n",
    "    self.classifier = ts.nn.Linear(768, num_classes)#, bias=False)\n",
    "  \n",
    "  # def forward(self, *args, **kwargs):\n",
    "    \n",
    "    \n",
    "  def forward(self, input_ids, token_type_ids, attention_mask, labels):\n",
    "    # outputs = self.bert(*args, **kwargs)\n",
    "    print(\"im here\")\n",
    "    outputs = self.bert(input_ids, token_type_ids=token_type_ids, attention_mask=attention_mask)\n",
    "\n",
    "    # print(\"im herenow\", outputs)\n",
    "    pred = self.classifier(outputs[1])#outputs.pooler_output)\n",
    "    print(\"pred:\",pred)\n",
    "    return pred\n",
    "\n",
    "# device = ts.device('cuda' if ts.cuda.is_available() else 'cpu')\n",
    "myModel = hugBert(5)#.to(device)\n"
   ]
  },
  {
   "cell_type": "code",
   "execution_count": null,
   "metadata": {},
   "outputs": [
    {
     "data": {
      "text/plain": [
       "<All keys matched successfully>"
      ]
     },
     "execution_count": 33,
     "metadata": {},
     "output_type": "execute_result"
    }
   ],
   "source": [
    "myModel.load_state_dict(ts.load(\"../model/bert.pt\"))"
   ]
  },
  {
   "cell_type": "code",
   "execution_count": null,
   "metadata": {},
   "outputs": [
    {
     "name": "stderr",
     "output_type": "stream",
     "text": [
      "PyTorch: setting up devices\n",
      "The default value for the training argument `--report_to` will change in v5 (from all installed integrations to none). In v5, you will need to use `--report_to all` to get the same behavior as now. You should start updating your code and make this info disappear :-).\n",
      "The following columns in the evaluation set  don't have a corresponding argument in `hugBert.forward` and have been ignored: text. If text are not expected by `hugBert.forward`,  you can safely ignore this message.\n",
      "***** Running Evaluation *****\n",
      "  Num examples = 24\n",
      "  Batch size = 8\n"
     ]
    },
    {
     "name": "stdout",
     "output_type": "stream",
     "text": [
      "im here\n",
      "pred: tensor([[ 0.1826,  0.6449,  0.0217, -0.0519,  0.0404],\n",
      "        [ 0.1297,  0.5231,  0.1399,  0.0172,  0.0406],\n",
      "        [ 0.1245,  0.3989,  0.2945, -0.1136,  0.1910],\n",
      "        [ 0.1148,  0.4368,  0.1891, -0.1092,  0.2012],\n",
      "        [ 0.0477,  0.4002,  0.1700, -0.0738,  0.2075],\n",
      "        [ 0.1610,  0.5558,  0.1638, -0.0263,  0.1625],\n",
      "        [ 0.1027,  0.6949,  0.0231,  0.0599, -0.0183],\n",
      "        [-0.0012,  0.4984,  0.1035, -0.0801,  0.1947]])\n"
     ]
    },
    {
     "name": "stderr",
     "output_type": "stream",
     "text": [
      "\n",
      "\n",
      "\n",
      "\n",
      "\u001b[A\u001b[A\u001b[A\u001b[A"
     ]
    },
    {
     "name": "stdout",
     "output_type": "stream",
     "text": [
      "im here\n"
     ]
    },
    {
     "name": "stderr",
     "output_type": "stream",
     "text": [
      "\n",
      "\n",
      "\n",
      "\n",
      "\u001b[A\u001b[A\u001b[A\u001b[A"
     ]
    },
    {
     "name": "stdout",
     "output_type": "stream",
     "text": [
      "pred: tensor([[ 0.1858,  0.5179,  0.1967, -0.0876,  0.1718],\n",
      "        [ 0.1486,  0.4860,  0.1535, -0.0523,  0.1371],\n",
      "        [ 0.1686,  0.5517,  0.1913, -0.0541,  0.1021],\n",
      "        [ 0.0683,  0.4326,  0.2662, -0.1737,  0.2609],\n",
      "        [ 0.1184,  0.4148,  0.2677, -0.1726,  0.2505],\n",
      "        [ 0.1091,  0.4781,  0.2054, -0.1284,  0.2082],\n",
      "        [ 0.1833,  0.4260,  0.1584, -0.1261,  0.1859],\n",
      "        [ 0.0658,  0.4718,  0.2040, -0.0485,  0.2178]])\n",
      "im here\n"
     ]
    },
    {
     "name": "stderr",
     "output_type": "stream",
     "text": [
      "\n",
      "\n",
      "\n",
      "\n",
      "\u001b[A\u001b[A\u001b[A\u001b[A"
     ]
    },
    {
     "name": "stdout",
     "output_type": "stream",
     "text": [
      "pred: tensor([[ 0.1459,  0.5513,  0.1596, -0.0636,  0.1044],\n",
      "        [ 0.2238,  0.5377,  0.1196, -0.0678,  0.1676],\n",
      "        [ 0.1532,  0.5909,  0.1280, -0.0536,  0.0773],\n",
      "        [ 0.1729,  0.5308,  0.1734, -0.0843,  0.1461],\n",
      "        [ 0.1579,  0.4627,  0.2737, -0.2181,  0.3360],\n",
      "        [ 0.1801,  0.4877,  0.2296, -0.1265,  0.1675],\n",
      "        [ 0.1012,  0.5931,  0.0573,  0.0957,  0.0299],\n",
      "        [ 0.2419,  0.4604,  0.1317, -0.1441,  0.1572]])\n",
      "Logits,labels: [[ 0.1297358   0.52309656  0.13992578  0.01721375  0.04056168]\n",
      " [ 0.12446832  0.3988679   0.29450804 -0.11364052  0.19103867]\n",
      " [ 0.11484936  0.43675023  0.18905312 -0.10919274  0.20120177]\n",
      " [ 0.0477355   0.4001835   0.16998968 -0.07382765  0.20749728]\n",
      " [ 0.16096789  0.5558137   0.16383743 -0.02628025  0.16251692]\n",
      " [ 0.10272156  0.6948503   0.02308258  0.05988012 -0.01831058]\n",
      " [-0.00119486  0.49840537  0.10345562 -0.08012985  0.19469029]\n",
      " [ 0.14862874  0.4860131   0.15348169 -0.05234826  0.1371122 ]\n",
      " [ 0.16855292  0.5516685   0.1913124  -0.05412991  0.10209301]\n",
      " [ 0.06834032  0.4326025   0.26622927 -0.17369732  0.2609436 ]\n",
      " [ 0.11839488  0.41477114  0.26771176 -0.17259559  0.25046068]\n",
      " [ 0.10908683  0.47811532  0.20536703 -0.128439    0.20818639]\n",
      " [ 0.18329838  0.42602223  0.15838951 -0.12605736  0.18591505]\n",
      " [ 0.0658401   0.4718269   0.20397963 -0.04847784  0.2177772 ]\n",
      " [ 0.2237764   0.5377485   0.11964673 -0.06783772  0.1675781 ]\n",
      " [ 0.15322247  0.5909307   0.1280222  -0.05359697  0.07731634]\n",
      " [ 0.17288338  0.5307979   0.17338872 -0.08429828  0.14605215]\n",
      " [ 0.15785475  0.46273336  0.27367696 -0.2180867   0.33595213]\n",
      " [ 0.18008536  0.48766983  0.22961989 -0.12648873  0.16745153]\n",
      " [ 0.10123834  0.5931318   0.05732426  0.09569292  0.0299401 ]\n",
      " [ 0.2419288   0.46042636  0.13173738 -0.14414378  0.1571556 ]] [2 4 1 4 3 4 2 3 2 3 0 0 3 2 2 1 3 1 2 2 1 2 3 1]\n",
      "Predictions: [1 1 1 1 1 1 1 1 1 1 1 1 1 1 1 1 1 1 1 1 1]\n"
     ]
    },
    {
     "ename": "ValueError",
     "evalue": "Mismatch in the number of predictions (21) and references (24)",
     "output_type": "error",
     "traceback": [
      "\u001b[1;31m---------------------------------------------------------------------------\u001b[0m",
      "\u001b[1;31mValueError\u001b[0m                                Traceback (most recent call last)",
      "\u001b[1;32mc:\\Users\\Ameno\\Desktop\\luna\\ai\\transformers\\tr_preprocessing.ipynb Cell 19'\u001b[0m in \u001b[0;36m<cell line: 10>\u001b[1;34m()\u001b[0m\n\u001b[0;32m      <a href='vscode-notebook-cell:/c%3A/Users/Ameno/Desktop/luna/ai/transformers/tr_preprocessing.ipynb#ch0000018?line=1'>2</a>\u001b[0m training_args \u001b[39m=\u001b[39m TrainingArguments(output_dir\u001b[39m=\u001b[39m\u001b[39m\"\u001b[39m\u001b[39mtest_trainer1\u001b[39m\u001b[39m\"\u001b[39m)\u001b[39m#, evaluation_strategy=\"epoch\")\u001b[39;00m\n\u001b[0;32m      <a href='vscode-notebook-cell:/c%3A/Users/Ameno/Desktop/luna/ai/transformers/tr_preprocessing.ipynb#ch0000018?line=2'>3</a>\u001b[0m evaluator \u001b[39m=\u001b[39m Trainer(\n\u001b[0;32m      <a href='vscode-notebook-cell:/c%3A/Users/Ameno/Desktop/luna/ai/transformers/tr_preprocessing.ipynb#ch0000018?line=3'>4</a>\u001b[0m     model\u001b[39m=\u001b[39mmyModel,\n\u001b[0;32m      <a href='vscode-notebook-cell:/c%3A/Users/Ameno/Desktop/luna/ai/transformers/tr_preprocessing.ipynb#ch0000018?line=4'>5</a>\u001b[0m     args\u001b[39m=\u001b[39mtraining_args,\n\u001b[1;32m   (...)\u001b[0m\n\u001b[0;32m      <a href='vscode-notebook-cell:/c%3A/Users/Ameno/Desktop/luna/ai/transformers/tr_preprocessing.ipynb#ch0000018?line=7'>8</a>\u001b[0m     compute_metrics\u001b[39m=\u001b[39mcompute_metrics,\n\u001b[0;32m      <a href='vscode-notebook-cell:/c%3A/Users/Ameno/Desktop/luna/ai/transformers/tr_preprocessing.ipynb#ch0000018?line=8'>9</a>\u001b[0m )\n\u001b[1;32m---> <a href='vscode-notebook-cell:/c%3A/Users/Ameno/Desktop/luna/ai/transformers/tr_preprocessing.ipynb#ch0000018?line=9'>10</a>\u001b[0m evaluator\u001b[39m.\u001b[39;49mevaluate()\n",
      "File \u001b[1;32m~\\Anaconda3\\envs\\luna-ai\\lib\\site-packages\\transformers\\trainer.py:2284\u001b[0m, in \u001b[0;36mTrainer.evaluate\u001b[1;34m(self, eval_dataset, ignore_keys, metric_key_prefix)\u001b[0m\n\u001b[0;32m   <a href='file:///c%3A/Users/Ameno/Anaconda3/envs/luna-ai/lib/site-packages/transformers/trainer.py?line=2280'>2281</a>\u001b[0m start_time \u001b[39m=\u001b[39m time\u001b[39m.\u001b[39mtime()\n\u001b[0;32m   <a href='file:///c%3A/Users/Ameno/Anaconda3/envs/luna-ai/lib/site-packages/transformers/trainer.py?line=2282'>2283</a>\u001b[0m eval_loop \u001b[39m=\u001b[39m \u001b[39mself\u001b[39m\u001b[39m.\u001b[39mprediction_loop \u001b[39mif\u001b[39;00m \u001b[39mself\u001b[39m\u001b[39m.\u001b[39margs\u001b[39m.\u001b[39muse_legacy_prediction_loop \u001b[39melse\u001b[39;00m \u001b[39mself\u001b[39m\u001b[39m.\u001b[39mevaluation_loop\n\u001b[1;32m-> <a href='file:///c%3A/Users/Ameno/Anaconda3/envs/luna-ai/lib/site-packages/transformers/trainer.py?line=2283'>2284</a>\u001b[0m output \u001b[39m=\u001b[39m eval_loop(\n\u001b[0;32m   <a href='file:///c%3A/Users/Ameno/Anaconda3/envs/luna-ai/lib/site-packages/transformers/trainer.py?line=2284'>2285</a>\u001b[0m     eval_dataloader,\n\u001b[0;32m   <a href='file:///c%3A/Users/Ameno/Anaconda3/envs/luna-ai/lib/site-packages/transformers/trainer.py?line=2285'>2286</a>\u001b[0m     description\u001b[39m=\u001b[39;49m\u001b[39m\"\u001b[39;49m\u001b[39mEvaluation\u001b[39;49m\u001b[39m\"\u001b[39;49m,\n\u001b[0;32m   <a href='file:///c%3A/Users/Ameno/Anaconda3/envs/luna-ai/lib/site-packages/transformers/trainer.py?line=2286'>2287</a>\u001b[0m     \u001b[39m# No point gathering the predictions if there are no metrics, otherwise we defer to\u001b[39;49;00m\n\u001b[0;32m   <a href='file:///c%3A/Users/Ameno/Anaconda3/envs/luna-ai/lib/site-packages/transformers/trainer.py?line=2287'>2288</a>\u001b[0m     \u001b[39m# self.args.prediction_loss_only\u001b[39;49;00m\n\u001b[0;32m   <a href='file:///c%3A/Users/Ameno/Anaconda3/envs/luna-ai/lib/site-packages/transformers/trainer.py?line=2288'>2289</a>\u001b[0m     prediction_loss_only\u001b[39m=\u001b[39;49m\u001b[39mTrue\u001b[39;49;00m \u001b[39mif\u001b[39;49;00m \u001b[39mself\u001b[39;49m\u001b[39m.\u001b[39;49mcompute_metrics \u001b[39mis\u001b[39;49;00m \u001b[39mNone\u001b[39;49;00m \u001b[39melse\u001b[39;49;00m \u001b[39mNone\u001b[39;49;00m,\n\u001b[0;32m   <a href='file:///c%3A/Users/Ameno/Anaconda3/envs/luna-ai/lib/site-packages/transformers/trainer.py?line=2289'>2290</a>\u001b[0m     ignore_keys\u001b[39m=\u001b[39;49mignore_keys,\n\u001b[0;32m   <a href='file:///c%3A/Users/Ameno/Anaconda3/envs/luna-ai/lib/site-packages/transformers/trainer.py?line=2290'>2291</a>\u001b[0m     metric_key_prefix\u001b[39m=\u001b[39;49mmetric_key_prefix,\n\u001b[0;32m   <a href='file:///c%3A/Users/Ameno/Anaconda3/envs/luna-ai/lib/site-packages/transformers/trainer.py?line=2291'>2292</a>\u001b[0m )\n\u001b[0;32m   <a href='file:///c%3A/Users/Ameno/Anaconda3/envs/luna-ai/lib/site-packages/transformers/trainer.py?line=2293'>2294</a>\u001b[0m total_batch_size \u001b[39m=\u001b[39m \u001b[39mself\u001b[39m\u001b[39m.\u001b[39margs\u001b[39m.\u001b[39meval_batch_size \u001b[39m*\u001b[39m \u001b[39mself\u001b[39m\u001b[39m.\u001b[39margs\u001b[39m.\u001b[39mworld_size\n\u001b[0;32m   <a href='file:///c%3A/Users/Ameno/Anaconda3/envs/luna-ai/lib/site-packages/transformers/trainer.py?line=2294'>2295</a>\u001b[0m output\u001b[39m.\u001b[39mmetrics\u001b[39m.\u001b[39mupdate(\n\u001b[0;32m   <a href='file:///c%3A/Users/Ameno/Anaconda3/envs/luna-ai/lib/site-packages/transformers/trainer.py?line=2295'>2296</a>\u001b[0m     speed_metrics(\n\u001b[0;32m   <a href='file:///c%3A/Users/Ameno/Anaconda3/envs/luna-ai/lib/site-packages/transformers/trainer.py?line=2296'>2297</a>\u001b[0m         metric_key_prefix,\n\u001b[1;32m   (...)\u001b[0m\n\u001b[0;32m   <a href='file:///c%3A/Users/Ameno/Anaconda3/envs/luna-ai/lib/site-packages/transformers/trainer.py?line=2300'>2301</a>\u001b[0m     )\n\u001b[0;32m   <a href='file:///c%3A/Users/Ameno/Anaconda3/envs/luna-ai/lib/site-packages/transformers/trainer.py?line=2301'>2302</a>\u001b[0m )\n",
      "File \u001b[1;32m~\\Anaconda3\\envs\\luna-ai\\lib\\site-packages\\transformers\\trainer.py:2535\u001b[0m, in \u001b[0;36mTrainer.evaluation_loop\u001b[1;34m(self, dataloader, description, prediction_loss_only, ignore_keys, metric_key_prefix)\u001b[0m\n\u001b[0;32m   <a href='file:///c%3A/Users/Ameno/Anaconda3/envs/luna-ai/lib/site-packages/transformers/trainer.py?line=2532'>2533</a>\u001b[0m \u001b[39m# Metrics!\u001b[39;00m\n\u001b[0;32m   <a href='file:///c%3A/Users/Ameno/Anaconda3/envs/luna-ai/lib/site-packages/transformers/trainer.py?line=2533'>2534</a>\u001b[0m \u001b[39mif\u001b[39;00m \u001b[39mself\u001b[39m\u001b[39m.\u001b[39mcompute_metrics \u001b[39mis\u001b[39;00m \u001b[39mnot\u001b[39;00m \u001b[39mNone\u001b[39;00m \u001b[39mand\u001b[39;00m all_preds \u001b[39mis\u001b[39;00m \u001b[39mnot\u001b[39;00m \u001b[39mNone\u001b[39;00m \u001b[39mand\u001b[39;00m all_labels \u001b[39mis\u001b[39;00m \u001b[39mnot\u001b[39;00m \u001b[39mNone\u001b[39;00m:\n\u001b[1;32m-> <a href='file:///c%3A/Users/Ameno/Anaconda3/envs/luna-ai/lib/site-packages/transformers/trainer.py?line=2534'>2535</a>\u001b[0m     metrics \u001b[39m=\u001b[39m \u001b[39mself\u001b[39;49m\u001b[39m.\u001b[39;49mcompute_metrics(EvalPrediction(predictions\u001b[39m=\u001b[39;49mall_preds, label_ids\u001b[39m=\u001b[39;49mall_labels))\n\u001b[0;32m   <a href='file:///c%3A/Users/Ameno/Anaconda3/envs/luna-ai/lib/site-packages/transformers/trainer.py?line=2535'>2536</a>\u001b[0m \u001b[39melse\u001b[39;00m:\n\u001b[0;32m   <a href='file:///c%3A/Users/Ameno/Anaconda3/envs/luna-ai/lib/site-packages/transformers/trainer.py?line=2536'>2537</a>\u001b[0m     metrics \u001b[39m=\u001b[39m {}\n",
      "\u001b[1;32mc:\\Users\\Ameno\\Desktop\\luna\\ai\\transformers\\tr_preprocessing.ipynb Cell 12'\u001b[0m in \u001b[0;36mcompute_metrics\u001b[1;34m(eval_pred)\u001b[0m\n\u001b[0;32m      <a href='vscode-notebook-cell:/c%3A/Users/Ameno/Desktop/luna/ai/transformers/tr_preprocessing.ipynb#ch0000011?line=3'>4</a>\u001b[0m predictions \u001b[39m=\u001b[39m np\u001b[39m.\u001b[39margmax(logits, axis\u001b[39m=\u001b[39m\u001b[39m1\u001b[39m)\n\u001b[0;32m      <a href='vscode-notebook-cell:/c%3A/Users/Ameno/Desktop/luna/ai/transformers/tr_preprocessing.ipynb#ch0000011?line=4'>5</a>\u001b[0m \u001b[39mprint\u001b[39m(\u001b[39m\"\u001b[39m\u001b[39mPredictions:\u001b[39m\u001b[39m\"\u001b[39m, predictions)\n\u001b[1;32m----> <a href='vscode-notebook-cell:/c%3A/Users/Ameno/Desktop/luna/ai/transformers/tr_preprocessing.ipynb#ch0000011?line=5'>6</a>\u001b[0m \u001b[39mreturn\u001b[39;00m metric\u001b[39m.\u001b[39;49mcompute(predictions\u001b[39m=\u001b[39;49mpredictions, references\u001b[39m=\u001b[39;49mlabels)\n",
      "File \u001b[1;32m~\\Anaconda3\\envs\\luna-ai\\lib\\site-packages\\datasets\\metric.py:419\u001b[0m, in \u001b[0;36mMetric.compute\u001b[1;34m(self, predictions, references, **kwargs)\u001b[0m\n\u001b[0;32m    <a href='file:///c%3A/Users/Ameno/Anaconda3/envs/luna-ai/lib/site-packages/datasets/metric.py?line=415'>416</a>\u001b[0m compute_kwargs \u001b[39m=\u001b[39m {k: kwargs[k] \u001b[39mfor\u001b[39;00m k \u001b[39min\u001b[39;00m kwargs \u001b[39mif\u001b[39;00m k \u001b[39mnot\u001b[39;00m \u001b[39min\u001b[39;00m \u001b[39mself\u001b[39m\u001b[39m.\u001b[39mfeatures}\n\u001b[0;32m    <a href='file:///c%3A/Users/Ameno/Anaconda3/envs/luna-ai/lib/site-packages/datasets/metric.py?line=417'>418</a>\u001b[0m \u001b[39mif\u001b[39;00m \u001b[39many\u001b[39m(v \u001b[39mis\u001b[39;00m \u001b[39mnot\u001b[39;00m \u001b[39mNone\u001b[39;00m \u001b[39mfor\u001b[39;00m v \u001b[39min\u001b[39;00m inputs\u001b[39m.\u001b[39mvalues()):\n\u001b[1;32m--> <a href='file:///c%3A/Users/Ameno/Anaconda3/envs/luna-ai/lib/site-packages/datasets/metric.py?line=418'>419</a>\u001b[0m     \u001b[39mself\u001b[39m\u001b[39m.\u001b[39madd_batch(\u001b[39m*\u001b[39m\u001b[39m*\u001b[39minputs)\n\u001b[0;32m    <a href='file:///c%3A/Users/Ameno/Anaconda3/envs/luna-ai/lib/site-packages/datasets/metric.py?line=419'>420</a>\u001b[0m \u001b[39mself\u001b[39m\u001b[39m.\u001b[39m_finalize()\n\u001b[0;32m    <a href='file:///c%3A/Users/Ameno/Anaconda3/envs/luna-ai/lib/site-packages/datasets/metric.py?line=421'>422</a>\u001b[0m \u001b[39mself\u001b[39m\u001b[39m.\u001b[39mcache_file_name \u001b[39m=\u001b[39m \u001b[39mNone\u001b[39;00m\n",
      "File \u001b[1;32m~\\Anaconda3\\envs\\luna-ai\\lib\\site-packages\\datasets\\metric.py:488\u001b[0m, in \u001b[0;36mMetric.add_batch\u001b[1;34m(self, predictions, references, **kwargs)\u001b[0m\n\u001b[0;32m    <a href='file:///c%3A/Users/Ameno/Anaconda3/envs/luna-ai/lib/site-packages/datasets/metric.py?line=480'>481</a>\u001b[0m \u001b[39melse\u001b[39;00m:\n\u001b[0;32m    <a href='file:///c%3A/Users/Ameno/Anaconda3/envs/luna-ai/lib/site-packages/datasets/metric.py?line=481'>482</a>\u001b[0m     error_msg \u001b[39m=\u001b[39m (\n\u001b[0;32m    <a href='file:///c%3A/Users/Ameno/Anaconda3/envs/luna-ai/lib/site-packages/datasets/metric.py?line=482'>483</a>\u001b[0m         \u001b[39mf\u001b[39m\u001b[39m\"\u001b[39m\u001b[39mPredictions and/or references don\u001b[39m\u001b[39m'\u001b[39m\u001b[39mt match the expected format.\u001b[39m\u001b[39m\\n\u001b[39;00m\u001b[39m\"\u001b[39m\n\u001b[0;32m    <a href='file:///c%3A/Users/Ameno/Anaconda3/envs/luna-ai/lib/site-packages/datasets/metric.py?line=483'>484</a>\u001b[0m         \u001b[39mf\u001b[39m\u001b[39m\"\u001b[39m\u001b[39mExpected format: \u001b[39m\u001b[39m{\u001b[39;00m\u001b[39mself\u001b[39m\u001b[39m.\u001b[39mfeatures\u001b[39m}\u001b[39;00m\u001b[39m,\u001b[39m\u001b[39m\\n\u001b[39;00m\u001b[39m\"\u001b[39m\n\u001b[0;32m    <a href='file:///c%3A/Users/Ameno/Anaconda3/envs/luna-ai/lib/site-packages/datasets/metric.py?line=484'>485</a>\u001b[0m         \u001b[39mf\u001b[39m\u001b[39m\"\u001b[39m\u001b[39mInput predictions: \u001b[39m\u001b[39m{\u001b[39;00msummarize_if_long_list(predictions)\u001b[39m}\u001b[39;00m\u001b[39m,\u001b[39m\u001b[39m\\n\u001b[39;00m\u001b[39m\"\u001b[39m\n\u001b[0;32m    <a href='file:///c%3A/Users/Ameno/Anaconda3/envs/luna-ai/lib/site-packages/datasets/metric.py?line=485'>486</a>\u001b[0m         \u001b[39mf\u001b[39m\u001b[39m\"\u001b[39m\u001b[39mInput references: \u001b[39m\u001b[39m{\u001b[39;00msummarize_if_long_list(references)\u001b[39m}\u001b[39;00m\u001b[39m\"\u001b[39m\n\u001b[0;32m    <a href='file:///c%3A/Users/Ameno/Anaconda3/envs/luna-ai/lib/site-packages/datasets/metric.py?line=486'>487</a>\u001b[0m     )\n\u001b[1;32m--> <a href='file:///c%3A/Users/Ameno/Anaconda3/envs/luna-ai/lib/site-packages/datasets/metric.py?line=487'>488</a>\u001b[0m \u001b[39mraise\u001b[39;00m \u001b[39mValueError\u001b[39;00m(error_msg) \u001b[39mfrom\u001b[39;00m \u001b[39mNone\u001b[39m\n",
      "\u001b[1;31mValueError\u001b[0m: Mismatch in the number of predictions (21) and references (24)"
     ]
    }
   ],
   "source": [
    "myModel.eval()\n",
    "testing_args = TrainingArguments(output_dir=\"test_trainer1\", per_device_eval_batch_size=2)#, evaluation_strategy=\"epoch\")\n",
    "evaluator = Trainer(\n",
    "    model=myModel,\n",
    "    args=testing_args,\n",
    "    train_dataset=small_train_dataset,\n",
    "    eval_dataset=small_eval_dataset, \n",
    "    compute_metrics=compute_metrics,\n",
    ")\n",
    "evaluator.evaluate()"
   ]
  }
 ],
 "metadata": {
  "interpreter": {
   "hash": "37f303f4a187250336be1f12335e58cf020b7cf0842a48e3d833364eb996cefd"
  },
  "kernelspec": {
   "display_name": "Python 3.9.4 ('luna-ai')",
   "language": "python",
   "name": "python3"
  },
  "language_info": {
   "codemirror_mode": {
    "name": "ipython",
    "version": 3
   },
   "file_extension": ".py",
   "mimetype": "text/x-python",
   "name": "python",
   "nbconvert_exporter": "python",
   "pygments_lexer": "ipython3",
   "version": "3.9.4"
  },
  "orig_nbformat": 4
 },
 "nbformat": 4,
 "nbformat_minor": 2
}
